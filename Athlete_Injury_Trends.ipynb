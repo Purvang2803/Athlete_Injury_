{
 "cells": [
  {
   "cell_type": "markdown",
   "id": "75a48003-8018-4df3-aefa-ca0d8eb60bf6",
   "metadata": {},
   "source": [
    "### Importing Libraries"
   ]
  },
  {
   "cell_type": "code",
   "execution_count": 1,
   "id": "a8d41419-530e-485a-9e8c-592ac35db3ee",
   "metadata": {},
   "outputs": [],
   "source": [
    "import pandas as pd\n",
    "import numpy as np\n",
    "import matplotlib.pyplot as plt\n",
    "import datetime\n",
    "import seaborn as sns\n",
    "import warnings\n",
    "warnings.filterwarnings('ignore')\n",
    "import re\n",
    "from sklearn.model_selection import train_test_split\n",
    "from collections import Counter\n",
    "import time"
   ]
  },
  {
   "cell_type": "markdown",
   "id": "b94a17a3-9740-4685-9c22-1dffcd831e1a",
   "metadata": {},
   "source": [
    "#### Dataset 1"
   ]
  },
  {
   "cell_type": "code",
   "execution_count": 2,
   "id": "cd0e5209-c60a-4848-a659-af05213894f1",
   "metadata": {},
   "outputs": [],
   "source": [
    "plr_injuries_df = pd.read_csv(\"C:\\\\Users\\\\DELL8\\\\OneDrive\\\\Pictures\\\\injuries.csv\")"
   ]
  },
  {
   "cell_type": "markdown",
   "id": "1762641d-7a81-4fa3-a144-3d96eec019df",
   "metadata": {},
   "source": [
    "Here’s a polished and well-structured dataset description for your Jupyter Notebook:\n",
    "\n",
    "---\n",
    "\n",
    "## **Dataset Description**\n",
    "\n",
    "This dataset provides information about athlete injuries and the corresponding dates of injury occurrences.\n",
    "\n",
    "### **Columns Overview**\n",
    "1. **athlete_id** (`integer`):  \n",
    "   - A unique identifier for each athlete.  \n",
    "   - Range: 1 to 30.  \n",
    "   \n",
    "2. **date** (`string`):  \n",
    "   - The date when the injury was recorded, formatted as `YYYY-MM-DD`.  \n",
    "   - Example: `2016-05-11`.  \n",
    "\n",
    "---\n",
    "\n",
    "### **Dataset Summary**\n",
    "- **Total Records:** 137  \n",
    "- **Unique Athletes:** 30  \n",
    "- **Unique Dates:** 126  \n",
    "- **Most Frequent Injury Date:** `2016-05-16` (4 occurrences)  \n",
    "\n",
    "\n",
    "### **Potential Use Cases**\n",
    "- Analysis of injury patterns over time for athletes.  \n",
    "- Identifying high-risk periods for injuries.  \n",
    "- Exploring the frequency of injuries for individual athletes.\n",
    "\n",
    "---"
   ]
  },
  {
   "cell_type": "code",
   "execution_count": 3,
   "id": "0f9c66f2-769e-4eb1-bdc0-e31dd3fe7826",
   "metadata": {},
   "outputs": [
    {
     "data": {
      "text/html": [
       "<div>\n",
       "<style scoped>\n",
       "    .dataframe tbody tr th:only-of-type {\n",
       "        vertical-align: middle;\n",
       "    }\n",
       "\n",
       "    .dataframe tbody tr th {\n",
       "        vertical-align: top;\n",
       "    }\n",
       "\n",
       "    .dataframe thead th {\n",
       "        text-align: right;\n",
       "    }\n",
       "</style>\n",
       "<table border=\"1\" class=\"dataframe\">\n",
       "  <thead>\n",
       "    <tr style=\"text-align: right;\">\n",
       "      <th></th>\n",
       "      <th>athlete_id</th>\n",
       "      <th>date</th>\n",
       "    </tr>\n",
       "  </thead>\n",
       "  <tbody>\n",
       "    <tr>\n",
       "      <th>0</th>\n",
       "      <td>1</td>\n",
       "      <td>2016-05-11</td>\n",
       "    </tr>\n",
       "    <tr>\n",
       "      <th>1</th>\n",
       "      <td>1</td>\n",
       "      <td>2016-05-16</td>\n",
       "    </tr>\n",
       "    <tr>\n",
       "      <th>2</th>\n",
       "      <td>1</td>\n",
       "      <td>2016-07-28</td>\n",
       "    </tr>\n",
       "    <tr>\n",
       "      <th>3</th>\n",
       "      <td>1</td>\n",
       "      <td>2016-11-11</td>\n",
       "    </tr>\n",
       "    <tr>\n",
       "      <th>4</th>\n",
       "      <td>1</td>\n",
       "      <td>2016-12-16</td>\n",
       "    </tr>\n",
       "  </tbody>\n",
       "</table>\n",
       "</div>"
      ],
      "text/plain": [
       "   athlete_id        date\n",
       "0           1  2016-05-11\n",
       "1           1  2016-05-16\n",
       "2           1  2016-07-28\n",
       "3           1  2016-11-11\n",
       "4           1  2016-12-16"
      ]
     },
     "execution_count": 3,
     "metadata": {},
     "output_type": "execute_result"
    }
   ],
   "source": [
    "plr_injuries_df.head()"
   ]
  },
  {
   "cell_type": "code",
   "execution_count": 4,
   "id": "15c86b65-88f1-4bd7-8156-c02d8f982b4e",
   "metadata": {},
   "outputs": [
    {
     "name": "stdout",
     "output_type": "stream",
     "text": [
      "<class 'pandas.core.frame.DataFrame'>\n",
      "RangeIndex: 137 entries, 0 to 136\n",
      "Data columns (total 2 columns):\n",
      " #   Column      Non-Null Count  Dtype \n",
      "---  ------      --------------  ----- \n",
      " 0   athlete_id  137 non-null    int64 \n",
      " 1   date        137 non-null    object\n",
      "dtypes: int64(1), object(1)\n",
      "memory usage: 2.3+ KB\n"
     ]
    }
   ],
   "source": [
    "plr_injuries_df.info()"
   ]
  },
  {
   "cell_type": "code",
   "execution_count": 5,
   "id": "4f5762d0-2779-4f62-8271-c681f94e48c1",
   "metadata": {},
   "outputs": [
    {
     "data": {
      "text/html": [
       "<div>\n",
       "<style scoped>\n",
       "    .dataframe tbody tr th:only-of-type {\n",
       "        vertical-align: middle;\n",
       "    }\n",
       "\n",
       "    .dataframe tbody tr th {\n",
       "        vertical-align: top;\n",
       "    }\n",
       "\n",
       "    .dataframe thead th {\n",
       "        text-align: right;\n",
       "    }\n",
       "</style>\n",
       "<table border=\"1\" class=\"dataframe\">\n",
       "  <thead>\n",
       "    <tr style=\"text-align: right;\">\n",
       "      <th></th>\n",
       "      <th>athlete_id</th>\n",
       "    </tr>\n",
       "  </thead>\n",
       "  <tbody>\n",
       "    <tr>\n",
       "      <th>count</th>\n",
       "      <td>137.000000</td>\n",
       "    </tr>\n",
       "    <tr>\n",
       "      <th>mean</th>\n",
       "      <td>15.605839</td>\n",
       "    </tr>\n",
       "    <tr>\n",
       "      <th>std</th>\n",
       "      <td>9.653068</td>\n",
       "    </tr>\n",
       "    <tr>\n",
       "      <th>min</th>\n",
       "      <td>1.000000</td>\n",
       "    </tr>\n",
       "    <tr>\n",
       "      <th>25%</th>\n",
       "      <td>6.000000</td>\n",
       "    </tr>\n",
       "    <tr>\n",
       "      <th>50%</th>\n",
       "      <td>18.000000</td>\n",
       "    </tr>\n",
       "    <tr>\n",
       "      <th>75%</th>\n",
       "      <td>24.000000</td>\n",
       "    </tr>\n",
       "    <tr>\n",
       "      <th>max</th>\n",
       "      <td>30.000000</td>\n",
       "    </tr>\n",
       "  </tbody>\n",
       "</table>\n",
       "</div>"
      ],
      "text/plain": [
       "       athlete_id\n",
       "count  137.000000\n",
       "mean    15.605839\n",
       "std      9.653068\n",
       "min      1.000000\n",
       "25%      6.000000\n",
       "50%     18.000000\n",
       "75%     24.000000\n",
       "max     30.000000"
      ]
     },
     "execution_count": 5,
     "metadata": {},
     "output_type": "execute_result"
    }
   ],
   "source": [
    "plr_injuries_df.describe()"
   ]
  },
  {
   "cell_type": "markdown",
   "id": "03248ea6-4a8e-4868-b409-7f9d4e124eac",
   "metadata": {},
   "source": [
    "#### Data Cleaning"
   ]
  },
  {
   "cell_type": "code",
   "execution_count": 6,
   "id": "84af67dc-3058-463c-8dbc-a69095b81308",
   "metadata": {},
   "outputs": [],
   "source": [
    "# Convert the 'date' column to datetime format\n",
    "plr_injuries_df['date'] = pd.to_datetime(plr_injuries_df['date'], errors='coerce')"
   ]
  },
  {
   "cell_type": "code",
   "execution_count": 7,
   "id": "8cec2fb9-2e2c-4c5c-af75-b37399ae0bce",
   "metadata": {},
   "outputs": [
    {
     "data": {
      "text/plain": [
       "np.int64(0)"
      ]
     },
     "execution_count": 7,
     "metadata": {},
     "output_type": "execute_result"
    }
   ],
   "source": [
    "# Check for duplicate rows\n",
    "duplicates = plr_injuries_df.duplicated().sum()\n",
    "duplicates"
   ]
  },
  {
   "cell_type": "code",
   "execution_count": 8,
   "id": "febd85c9-113b-4aed-8dbb-86531a74506d",
   "metadata": {},
   "outputs": [],
   "source": [
    "# Remove duplicate rows if any\n",
    "data_cleaned = plr_injuries_df.drop_duplicates()"
   ]
  },
  {
   "cell_type": "code",
   "execution_count": 9,
   "id": "730975e6-ec0e-4ac3-9b95-912eeab31395",
   "metadata": {},
   "outputs": [
    {
     "data": {
      "text/html": [
       "<div>\n",
       "<style scoped>\n",
       "    .dataframe tbody tr th:only-of-type {\n",
       "        vertical-align: middle;\n",
       "    }\n",
       "\n",
       "    .dataframe tbody tr th {\n",
       "        vertical-align: top;\n",
       "    }\n",
       "\n",
       "    .dataframe thead th {\n",
       "        text-align: right;\n",
       "    }\n",
       "</style>\n",
       "<table border=\"1\" class=\"dataframe\">\n",
       "  <thead>\n",
       "    <tr style=\"text-align: right;\">\n",
       "      <th></th>\n",
       "      <th>athlete_id</th>\n",
       "      <th>date</th>\n",
       "    </tr>\n",
       "  </thead>\n",
       "  <tbody>\n",
       "    <tr>\n",
       "      <th>0</th>\n",
       "      <td>1</td>\n",
       "      <td>2016-05-11</td>\n",
       "    </tr>\n",
       "    <tr>\n",
       "      <th>1</th>\n",
       "      <td>1</td>\n",
       "      <td>2016-05-16</td>\n",
       "    </tr>\n",
       "    <tr>\n",
       "      <th>2</th>\n",
       "      <td>1</td>\n",
       "      <td>2016-07-28</td>\n",
       "    </tr>\n",
       "    <tr>\n",
       "      <th>3</th>\n",
       "      <td>1</td>\n",
       "      <td>2016-11-11</td>\n",
       "    </tr>\n",
       "    <tr>\n",
       "      <th>4</th>\n",
       "      <td>1</td>\n",
       "      <td>2016-12-16</td>\n",
       "    </tr>\n",
       "  </tbody>\n",
       "</table>\n",
       "</div>"
      ],
      "text/plain": [
       "   athlete_id       date\n",
       "0           1 2016-05-11\n",
       "1           1 2016-05-16\n",
       "2           1 2016-07-28\n",
       "3           1 2016-11-11\n",
       "4           1 2016-12-16"
      ]
     },
     "execution_count": 9,
     "metadata": {},
     "output_type": "execute_result"
    }
   ],
   "source": [
    " data_cleaned.head()\n"
   ]
  },
  {
   "cell_type": "code",
   "execution_count": 10,
   "id": "1284ec50-1167-4c1d-835c-dc5613d6f97b",
   "metadata": {},
   "outputs": [],
   "source": [
    "injury_counts = data_cleaned.groupby(\"athlete_id\").count().reset_index()"
   ]
  },
  {
   "cell_type": "code",
   "execution_count": 11,
   "id": "7d89f21d-ef42-4785-802d-e3b14768d5ed",
   "metadata": {},
   "outputs": [],
   "source": [
    "\n",
    "injury_counts = injury_counts.rename(columns={'date': 'total_injuries'})"
   ]
  },
  {
   "cell_type": "code",
   "execution_count": 12,
   "id": "bff43e4a-289c-4c70-8146-3f7e022c43d9",
   "metadata": {},
   "outputs": [],
   "source": [
    "injury_counts.sort_values(by=\"total_injuries\", ascending=False, inplace=True)"
   ]
  },
  {
   "cell_type": "code",
   "execution_count": 13,
   "id": "d78fb801-2bc6-48c0-8e7a-36fa8da4ed7f",
   "metadata": {},
   "outputs": [
    {
     "data": {
      "text/html": [
       "<div>\n",
       "<style scoped>\n",
       "    .dataframe tbody tr th:only-of-type {\n",
       "        vertical-align: middle;\n",
       "    }\n",
       "\n",
       "    .dataframe tbody tr th {\n",
       "        vertical-align: top;\n",
       "    }\n",
       "\n",
       "    .dataframe thead th {\n",
       "        text-align: right;\n",
       "    }\n",
       "</style>\n",
       "<table border=\"1\" class=\"dataframe\">\n",
       "  <thead>\n",
       "    <tr style=\"text-align: right;\">\n",
       "      <th></th>\n",
       "      <th>athlete_id</th>\n",
       "      <th>total_injuries</th>\n",
       "    </tr>\n",
       "  </thead>\n",
       "  <tbody>\n",
       "    <tr>\n",
       "      <th>0</th>\n",
       "      <td>1</td>\n",
       "      <td>12</td>\n",
       "    </tr>\n",
       "    <tr>\n",
       "      <th>23</th>\n",
       "      <td>25</td>\n",
       "      <td>12</td>\n",
       "    </tr>\n",
       "    <tr>\n",
       "      <th>20</th>\n",
       "      <td>22</td>\n",
       "      <td>10</td>\n",
       "    </tr>\n",
       "    <tr>\n",
       "      <th>2</th>\n",
       "      <td>3</td>\n",
       "      <td>9</td>\n",
       "    </tr>\n",
       "    <tr>\n",
       "      <th>1</th>\n",
       "      <td>2</td>\n",
       "      <td>7</td>\n",
       "    </tr>\n",
       "  </tbody>\n",
       "</table>\n",
       "</div>"
      ],
      "text/plain": [
       "    athlete_id  total_injuries\n",
       "0            1              12\n",
       "23          25              12\n",
       "20          22              10\n",
       "2            3               9\n",
       "1            2               7"
      ]
     },
     "execution_count": 13,
     "metadata": {},
     "output_type": "execute_result"
    }
   ],
   "source": [
    "injury_counts.head()"
   ]
  },
  {
   "cell_type": "markdown",
   "id": "13694cd9-6065-4ae9-b269-1f027d885944",
   "metadata": {},
   "source": [
    "#### Top 5 Athletes by Total Injuries\n"
   ]
  },
  {
   "cell_type": "code",
   "execution_count": 14,
   "id": "08590b3e-f376-4602-bb8e-bd8c2a5c1d74",
   "metadata": {},
   "outputs": [
    {
     "data": {
      "image/png": "[encoded data removed]",
      "text/plain": [
       "<Figure size 800x400 with 1 Axes>"
      ]
     },
     "metadata": {},
     "output_type": "display_data"
    }
   ],
   "source": [
    "plt.figure(figsize=(8, 4))\n",
    "sns.barplot(\n",
    "    x='athlete_id', \n",
    "    y='total_injuries', \n",
    "    data=injury_counts.head(5), # Top 10 athletes\n",
    "    palette=\"viridis\"\n",
    ")\n",
    "plt.title(\"Top 5 Athletes by Total Injuries\", fontsize=16)\n",
    "plt.xlabel(\"Athlete ID\", fontsize=12)\n",
    "plt.ylabel(\"Total Injuries\", fontsize=12)\n",
    "plt.xticks(rotation=45)\n",
    "plt.tight_layout()\n",
    "plt.show()"
   ]
  },
  {
   "cell_type": "markdown",
   "id": "f70c5db6-1f9d-491c-a457-66f0f7cb9446",
   "metadata": {},
   "source": [
    "**Observation:** The bar plot highlights the top 5 athletes with the highest total number of injuries. The x-axis represents athlete IDs, while the y-axis shows the total number of injuries for each athlete. The bars are color-coded using the \"viridis\" palette, and the athlete IDs are displayed on the x-axis with a 45-degree rotation for better readability.\n",
    "\n",
    "**Conclusion:** The plot provides a clear view of which athletes are more prone to injuries. This information can be useful for further investigation into the causes of these injuries, whether they are related to the athlete's playing style, training routines, or other factors. Identifying athletes with frequent injuries might also help in implementing tailored recovery programs or preventive measures."
   ]
  },
  {
   "cell_type": "markdown",
   "id": "a0417a0b-7958-4732-b8a4-e2d77168a92c",
   "metadata": {},
   "source": [
    "#### Yearly Trend of Injuries"
   ]
  },
  {
   "cell_type": "code",
   "execution_count": 15,
   "id": "8d1e0df3-e0c8-4ecd-807d-4757ffab4313",
   "metadata": {},
   "outputs": [
    {
     "data": {
      "image/png": "[encoded data removed]",
      "text/plain": [
       "<Figure size 1200x600 with 1 Axes>"
      ]
     },
     "metadata": {},
     "output_type": "display_data"
    }
   ],
   "source": [
    "\n",
    "data_cleaned['year_month'] = data_cleaned['date'].dt.to_period('M')\n",
    "\n",
    "monthly_injuries = data_cleaned.groupby('year_month').size().reset_index(name='injuries')\n",
    "\n",
    "monthly_injuries['year_month'] = monthly_injuries['year_month'].astype(str)\n",
    "\n",
    "# Plot the Monthly Trend\n",
    "plt.figure(figsize=(12, 6))\n",
    "plt.plot(monthly_injuries['year_month'], monthly_injuries['injuries'], marker='o', linestyle='-', color='green')\n",
    "\n",
    "# Formatting\n",
    "plt.title(\"Monthly Trend of Injuries\", fontsize=16)\n",
    "plt.xlabel(\"Year-Month\", fontsize=12)\n",
    "plt.ylabel(\"Number of Injuries\", fontsize=12)\n",
    "plt.xticks(rotation=45)  # Rotate x-axis labels for readability\n",
    "plt.grid(True)\n",
    "plt.tight_layout()\n",
    "\n",
    "# Show the plot\n",
    "plt.show()\n"
   ]
  },
  {
   "cell_type": "markdown",
   "id": "67be1621-4b35-4fec-a618-589d71726bac",
   "metadata": {},
   "source": [
    "**Observation:** The line plot shows the trend of injuries over the years. The x-axis represents the years, while the y-axis displays the number of injuries recorded each year. Data points are marked with circles, and the line provides a clear visual of injury fluctuations across time. The grid helps in visually tracking the changes.\n",
    "\n",
    "**Conclusion:** This plot reveals how the number of injuries has varied over the years. Identifying upward or downward trends in injuries over time can guide further analysis into the causes or preventive measures. A consistent increase in injuries might suggest areas to investigate, such as training practices, player fatigue, or other influencing factors. Conversely, a decrease could indicate successful injury prevention strategies or changes in team management."
   ]
  },
  {
   "cell_type": "markdown",
   "id": "cb15842c-d957-4b88-8f05-5657276da1a0",
   "metadata": {},
   "source": [
    "#### Dataset 2"
   ]
  },
  {
   "cell_type": "code",
   "execution_count": 16,
   "id": "b8f6c34b-87b0-4406-8de1-2ec36e99f69e",
   "metadata": {},
   "outputs": [],
   "source": [
    "df=pd.read_csv( \"C:\\\\Users\\\\DELL8\\\\OneDrive\\\\Desktop\\\\player_stats.csv\")"
   ]
  },
  {
   "cell_type": "markdown",
   "id": "644534d1-e8ca-4869-ab20-f7c8f82c5ddb",
   "metadata": {},
   "source": [
    "\n",
    "\n",
    "## **Dataset Description: Player Match Statistics**\n",
    "\n",
    "This dataset contains detailed player performance information across various matches. It can be used to analyze player involvement, substitutions, disciplinary actions, and whether the player was part of the home team.\n",
    "\n",
    "---\n",
    "\n",
    "### **Column Descriptions**\n",
    "\n",
    "1. **player_id (`object`)**:  \n",
    "   - Unique identifier for each player.  \n",
    "   - Total unique players: 4,992.  \n",
    "\n",
    "2. **match_id (`integer`)**:  \n",
    "   - Unique identifier for each match.  \n",
    "   - Range: 1 to 66,601.  \n",
    "\n",
    "3. **is_in_starting_11 (`integer`)**:  \n",
    "   - Indicates whether the player was part of the starting lineup (1 for yes, 0 for no).  \n",
    "   - Average participation as a starter: 71%.  \n",
    "\n",
    "4. **substitution_on (`object`)**:  \n",
    "   - The minute when the player was substituted onto the field, or \"Null\" if they were never substituted on.  \n",
    "\n",
    "5. **substitution_off (`object`)**:  \n",
    "   - The minute when the player was substituted off the field, or \"Null\" if they were never substituted off.  \n",
    "\n",
    "6. **yellow_card (`object`)**:  \n",
    "   - Indicates whether the player received a yellow card.  \n",
    "   - Values: \"True\" (received), \"Null\" (not received).  \n",
    "\n",
    "7. **red_card (`object`)**:  \n",
    "   - Indicates whether the player received a red card.  \n",
    "   - Values: \"True\" (received), \"Null\" (not received).  \n",
    "\n",
    "8. **is_home_side (`integer`)**:  \n",
    "   - Indicates if the player was part of the home team (1 for yes, 0 for no).  \n",
    "\n",
    "---\n",
    "\n",
    "### **Dataset Summary**\n",
    "- **Total Records:** 356,465  \n",
    "- **Unique Players:** 4,992  \n",
    "- **Unique Matches:** 66,601  \n",
    "- **Most Frequent Substitution On/Off Minute:** \"Null\" (no substitution)  \n",
    "- **Yellow Cards:** Most players did not receive yellow cards (321,323 records as \"Null\").  \n",
    "- **Red Cards:** Very few records indicate red card occurrences.  \n",
    "- **Home vs Away Matches:** Balanced, with 50% being home matches.\n",
    "\n",
    "---\n",
    "\n",
    "\n",
    "### **Potential Use Cases**\n",
    "- Analyzing player participation trends.  \n",
    "- Studying substitution patterns.  \n",
    "- Assessing player discipline through yellow and red cards.  \n",
    "- Evaluating home and away team performances.\n"
   ]
  },
  {
   "cell_type": "code",
   "execution_count": 17,
   "id": "f3356e85-1493-4342-b9ca-581ff6ee03a8",
   "metadata": {},
   "outputs": [
    {
     "data": {
      "text/html": [
       "<div>\n",
       "<style scoped>\n",
       "    .dataframe tbody tr th:only-of-type {\n",
       "        vertical-align: middle;\n",
       "    }\n",
       "\n",
       "    .dataframe tbody tr th {\n",
       "        vertical-align: top;\n",
       "    }\n",
       "\n",
       "    .dataframe thead th {\n",
       "        text-align: right;\n",
       "    }\n",
       "</style>\n",
       "<table border=\"1\" class=\"dataframe\">\n",
       "  <thead>\n",
       "    <tr style=\"text-align: right;\">\n",
       "      <th></th>\n",
       "      <th>player_id</th>\n",
       "      <th>match_id</th>\n",
       "      <th>is_in_starting_11</th>\n",
       "      <th>substitution_on</th>\n",
       "      <th>substitution_off</th>\n",
       "      <th>yellow_card</th>\n",
       "      <th>red_card</th>\n",
       "      <th>is_home_side</th>\n",
       "    </tr>\n",
       "  </thead>\n",
       "  <tbody>\n",
       "    <tr>\n",
       "      <th>0</th>\n",
       "      <td>p1</td>\n",
       "      <td>4</td>\n",
       "      <td>1</td>\n",
       "      <td>Null</td>\n",
       "      <td>Null</td>\n",
       "      <td>Null</td>\n",
       "      <td>Null</td>\n",
       "      <td>0</td>\n",
       "    </tr>\n",
       "    <tr>\n",
       "      <th>1</th>\n",
       "      <td>p1</td>\n",
       "      <td>12</td>\n",
       "      <td>1</td>\n",
       "      <td>Null</td>\n",
       "      <td>Null</td>\n",
       "      <td>Null</td>\n",
       "      <td>Null</td>\n",
       "      <td>1</td>\n",
       "    </tr>\n",
       "    <tr>\n",
       "      <th>2</th>\n",
       "      <td>p1</td>\n",
       "      <td>24</td>\n",
       "      <td>1</td>\n",
       "      <td>Null</td>\n",
       "      <td>Null</td>\n",
       "      <td>Null</td>\n",
       "      <td>Null</td>\n",
       "      <td>1</td>\n",
       "    </tr>\n",
       "    <tr>\n",
       "      <th>3</th>\n",
       "      <td>p1</td>\n",
       "      <td>41</td>\n",
       "      <td>1</td>\n",
       "      <td>Null</td>\n",
       "      <td>Null</td>\n",
       "      <td>Null</td>\n",
       "      <td>Null</td>\n",
       "      <td>0</td>\n",
       "    </tr>\n",
       "    <tr>\n",
       "      <th>4</th>\n",
       "      <td>p1</td>\n",
       "      <td>46</td>\n",
       "      <td>1</td>\n",
       "      <td>Null</td>\n",
       "      <td>83'</td>\n",
       "      <td>True</td>\n",
       "      <td>Null</td>\n",
       "      <td>0</td>\n",
       "    </tr>\n",
       "  </tbody>\n",
       "</table>\n",
       "</div>"
      ],
      "text/plain": [
       "  player_id  match_id  is_in_starting_11 substitution_on substitution_off  \\\n",
       "0        p1         4                  1            Null             Null   \n",
       "1        p1        12                  1            Null             Null   \n",
       "2        p1        24                  1            Null             Null   \n",
       "3        p1        41                  1            Null             Null   \n",
       "4        p1        46                  1            Null              83'   \n",
       "\n",
       "  yellow_card red_card  is_home_side  \n",
       "0        Null     Null             0  \n",
       "1        Null     Null             1  \n",
       "2        Null     Null             1  \n",
       "3        Null     Null             0  \n",
       "4        True     Null             0  "
      ]
     },
     "execution_count": 17,
     "metadata": {},
     "output_type": "execute_result"
    }
   ],
   "source": [
    "df.head()"
   ]
  },
  {
   "cell_type": "code",
   "execution_count": 18,
   "id": "3892285f-e981-460d-8507-04daf5f1662b",
   "metadata": {},
   "outputs": [
    {
     "data": {
      "text/plain": [
       "player_id            0\n",
       "match_id             0\n",
       "is_in_starting_11    0\n",
       "substitution_on      0\n",
       "substitution_off     0\n",
       "yellow_card          0\n",
       "red_card             0\n",
       "is_home_side         0\n",
       "dtype: int64"
      ]
     },
     "execution_count": 18,
     "metadata": {},
     "output_type": "execute_result"
    }
   ],
   "source": [
    "df.isna().sum()"
   ]
  },
  {
   "cell_type": "code",
   "execution_count": 19,
   "id": "e2f755b0-1a88-489d-93d8-80ab04ac4ad4",
   "metadata": {},
   "outputs": [
    {
     "data": {
      "text/html": [
       "<div>\n",
       "<style scoped>\n",
       "    .dataframe tbody tr th:only-of-type {\n",
       "        vertical-align: middle;\n",
       "    }\n",
       "\n",
       "    .dataframe tbody tr th {\n",
       "        vertical-align: top;\n",
       "    }\n",
       "\n",
       "    .dataframe thead th {\n",
       "        text-align: right;\n",
       "    }\n",
       "</style>\n",
       "<table border=\"1\" class=\"dataframe\">\n",
       "  <thead>\n",
       "    <tr style=\"text-align: right;\">\n",
       "      <th></th>\n",
       "      <th>match_id</th>\n",
       "      <th>is_in_starting_11</th>\n",
       "      <th>is_home_side</th>\n",
       "    </tr>\n",
       "  </thead>\n",
       "  <tbody>\n",
       "    <tr>\n",
       "      <th>count</th>\n",
       "      <td>356465.000000</td>\n",
       "      <td>356465.000000</td>\n",
       "      <td>356465.000000</td>\n",
       "    </tr>\n",
       "    <tr>\n",
       "      <th>mean</th>\n",
       "      <td>13094.649615</td>\n",
       "      <td>0.710202</td>\n",
       "      <td>0.500086</td>\n",
       "    </tr>\n",
       "    <tr>\n",
       "      <th>std</th>\n",
       "      <td>17047.732712</td>\n",
       "      <td>0.453669</td>\n",
       "      <td>0.500001</td>\n",
       "    </tr>\n",
       "    <tr>\n",
       "      <th>min</th>\n",
       "      <td>1.000000</td>\n",
       "      <td>0.000000</td>\n",
       "      <td>0.000000</td>\n",
       "    </tr>\n",
       "    <tr>\n",
       "      <th>25%</th>\n",
       "      <td>3531.000000</td>\n",
       "      <td>0.000000</td>\n",
       "      <td>0.000000</td>\n",
       "    </tr>\n",
       "    <tr>\n",
       "      <th>50%</th>\n",
       "      <td>6616.000000</td>\n",
       "      <td>1.000000</td>\n",
       "      <td>1.000000</td>\n",
       "    </tr>\n",
       "    <tr>\n",
       "      <th>75%</th>\n",
       "      <td>12221.000000</td>\n",
       "      <td>1.000000</td>\n",
       "      <td>1.000000</td>\n",
       "    </tr>\n",
       "    <tr>\n",
       "      <th>max</th>\n",
       "      <td>66601.000000</td>\n",
       "      <td>1.000000</td>\n",
       "      <td>1.000000</td>\n",
       "    </tr>\n",
       "  </tbody>\n",
       "</table>\n",
       "</div>"
      ],
      "text/plain": [
       "            match_id  is_in_starting_11   is_home_side\n",
       "count  356465.000000      356465.000000  356465.000000\n",
       "mean    13094.649615           0.710202       0.500086\n",
       "std     17047.732712           0.453669       0.500001\n",
       "min         1.000000           0.000000       0.000000\n",
       "25%      3531.000000           0.000000       0.000000\n",
       "50%      6616.000000           1.000000       1.000000\n",
       "75%     12221.000000           1.000000       1.000000\n",
       "max     66601.000000           1.000000       1.000000"
      ]
     },
     "execution_count": 19,
     "metadata": {},
     "output_type": "execute_result"
    }
   ],
   "source": [
    "df.describe()"
   ]
  },
  {
   "cell_type": "markdown",
   "id": "87a7906f-a095-4216-805c-1aa9ebe16116",
   "metadata": {},
   "source": [
    "#### Data cleaning"
   ]
  },
  {
   "cell_type": "code",
   "execution_count": 20,
   "id": "5c3891eb-81a4-44f3-bc68-5ddf2250dfd3",
   "metadata": {},
   "outputs": [],
   "source": [
    "df.replace(\"Null\", np.nan, inplace=True)\n"
   ]
  },
  {
   "cell_type": "code",
   "execution_count": 21,
   "id": "840f9532-611b-4878-95ea-453bcbefa04d",
   "metadata": {},
   "outputs": [],
   "source": [
    "df['yellow_card'] = df['yellow_card'].notna()\n",
    "df['red_card'] = df['red_card'].notna()"
   ]
  },
  {
   "cell_type": "markdown",
   "id": "532b1db6-7a98-4a95-96cb-f2872eeb2790",
   "metadata": {},
   "source": [
    " ##### Function to Extract Minutes from Substitution Columns"
   ]
  },
  {
   "cell_type": "code",
   "execution_count": 22,
   "id": "6fc9f9a6-a145-4843-beb9-a6ea199ac1dc",
   "metadata": {},
   "outputs": [],
   "source": [
    "def extract_minutes(value):\n",
    "    if pd.isna(value):\n",
    "        return np.nan\n",
    "    match = re.match(r\"(\\d+)\", value)  \n",
    "    return float(match.group(1)) if match else np.nan\n"
   ]
  },
  {
   "cell_type": "code",
   "execution_count": 23,
   "id": "9aa0699b-9466-4033-8bfa-fd5d5768dec5",
   "metadata": {},
   "outputs": [],
   "source": [
    "df['substitution_on'] = df['substitution_on'].apply(extract_minutes)\n",
    "df['substitution_off'] = df['substitution_off'].apply(extract_minutes)"
   ]
  },
  {
   "cell_type": "code",
   "execution_count": 24,
   "id": "5c51caf7-501b-487c-81a8-44cd04f77a2b",
   "metadata": {},
   "outputs": [],
   "source": [
    "\n",
    "data_cleaned = df.drop_duplicates()\n"
   ]
  },
  {
   "cell_type": "markdown",
   "id": "cfd151bc-8ea5-4eb2-ace9-38e9735b1e1c",
   "metadata": {},
   "source": [
    "###### Convert Player ID to Categorical Data Type"
   ]
  },
  {
   "cell_type": "code",
   "execution_count": 25,
   "id": "c89d95a5-4a67-4fa9-9e8e-61cd035a18b1",
   "metadata": {},
   "outputs": [],
   "source": [
    "data_cleaned['player_id'] = data_cleaned['player_id'].astype('category')"
   ]
  },
  {
   "cell_type": "code",
   "execution_count": 26,
   "id": "f9830612-6324-4440-9b66-b569a3ebb4ed",
   "metadata": {},
   "outputs": [
    {
     "name": "stdout",
     "output_type": "stream",
     "text": [
      "<class 'pandas.core.frame.DataFrame'>\n",
      "RangeIndex: 356465 entries, 0 to 356464\n",
      "Data columns (total 8 columns):\n",
      " #   Column             Non-Null Count   Dtype   \n",
      "---  ------             --------------   -----   \n",
      " 0   player_id          356465 non-null  category\n",
      " 1   match_id           356465 non-null  int64   \n",
      " 2   is_in_starting_11  356465 non-null  int64   \n",
      " 3   substitution_on    52852 non-null   float64 \n",
      " 4   substitution_off   52887 non-null   float64 \n",
      " 5   yellow_card        356465 non-null  bool    \n",
      " 6   red_card           356465 non-null  bool    \n",
      " 7   is_home_side       356465 non-null  int64   \n",
      "dtypes: bool(2), category(1), float64(2), int64(3)\n",
      "memory usage: 15.1 MB\n",
      "None\n"
     ]
    }
   ],
   "source": [
    "print(data_cleaned.info())"
   ]
  },
  {
   "cell_type": "code",
   "execution_count": 27,
   "id": "1e76e1fa-8a2a-4914-9c5a-4550c8a7fdda",
   "metadata": {},
   "outputs": [
    {
     "name": "stdout",
     "output_type": "stream",
     "text": [
      "  player_id  match_id  is_in_starting_11  substitution_on  substitution_off  \\\n",
      "0        p1         4                  1              NaN               NaN   \n",
      "1        p1        12                  1              NaN               NaN   \n",
      "2        p1        24                  1              NaN               NaN   \n",
      "3        p1        41                  1              NaN               NaN   \n",
      "4        p1        46                  1              NaN              83.0   \n",
      "\n",
      "   yellow_card  red_card  is_home_side  \n",
      "0        False     False             0  \n",
      "1        False     False             1  \n",
      "2        False     False             1  \n",
      "3        False     False             0  \n",
      "4         True     False             0  \n"
     ]
    }
   ],
   "source": [
    "print(data_cleaned.head())"
   ]
  },
  {
   "cell_type": "code",
   "execution_count": 28,
   "id": "55ac4b0f-ac26-41db-9965-a1d698271287",
   "metadata": {},
   "outputs": [
    {
     "data": {
      "text/html": [
       "<div>\n",
       "<style scoped>\n",
       "    .dataframe tbody tr th:only-of-type {\n",
       "        vertical-align: middle;\n",
       "    }\n",
       "\n",
       "    .dataframe tbody tr th {\n",
       "        vertical-align: top;\n",
       "    }\n",
       "\n",
       "    .dataframe thead th {\n",
       "        text-align: right;\n",
       "    }\n",
       "</style>\n",
       "<table border=\"1\" class=\"dataframe\">\n",
       "  <thead>\n",
       "    <tr style=\"text-align: right;\">\n",
       "      <th></th>\n",
       "      <th>player_id</th>\n",
       "      <th>match_id</th>\n",
       "      <th>is_in_starting_11</th>\n",
       "      <th>substitution_on</th>\n",
       "      <th>substitution_off</th>\n",
       "      <th>yellow_card</th>\n",
       "      <th>red_card</th>\n",
       "      <th>is_home_side</th>\n",
       "    </tr>\n",
       "  </thead>\n",
       "  <tbody>\n",
       "    <tr>\n",
       "      <th>0</th>\n",
       "      <td>p1</td>\n",
       "      <td>4</td>\n",
       "      <td>1</td>\n",
       "      <td>NaN</td>\n",
       "      <td>NaN</td>\n",
       "      <td>False</td>\n",
       "      <td>False</td>\n",
       "      <td>0</td>\n",
       "    </tr>\n",
       "    <tr>\n",
       "      <th>1</th>\n",
       "      <td>p1</td>\n",
       "      <td>12</td>\n",
       "      <td>1</td>\n",
       "      <td>NaN</td>\n",
       "      <td>NaN</td>\n",
       "      <td>False</td>\n",
       "      <td>False</td>\n",
       "      <td>1</td>\n",
       "    </tr>\n",
       "    <tr>\n",
       "      <th>2</th>\n",
       "      <td>p1</td>\n",
       "      <td>24</td>\n",
       "      <td>1</td>\n",
       "      <td>NaN</td>\n",
       "      <td>NaN</td>\n",
       "      <td>False</td>\n",
       "      <td>False</td>\n",
       "      <td>1</td>\n",
       "    </tr>\n",
       "    <tr>\n",
       "      <th>3</th>\n",
       "      <td>p1</td>\n",
       "      <td>41</td>\n",
       "      <td>1</td>\n",
       "      <td>NaN</td>\n",
       "      <td>NaN</td>\n",
       "      <td>False</td>\n",
       "      <td>False</td>\n",
       "      <td>0</td>\n",
       "    </tr>\n",
       "    <tr>\n",
       "      <th>4</th>\n",
       "      <td>p1</td>\n",
       "      <td>46</td>\n",
       "      <td>1</td>\n",
       "      <td>NaN</td>\n",
       "      <td>83.0</td>\n",
       "      <td>True</td>\n",
       "      <td>False</td>\n",
       "      <td>0</td>\n",
       "    </tr>\n",
       "    <tr>\n",
       "      <th>...</th>\n",
       "      <td>...</td>\n",
       "      <td>...</td>\n",
       "      <td>...</td>\n",
       "      <td>...</td>\n",
       "      <td>...</td>\n",
       "      <td>...</td>\n",
       "      <td>...</td>\n",
       "      <td>...</td>\n",
       "    </tr>\n",
       "    <tr>\n",
       "      <th>356460</th>\n",
       "      <td>p999</td>\n",
       "      <td>7462</td>\n",
       "      <td>0</td>\n",
       "      <td>70.0</td>\n",
       "      <td>NaN</td>\n",
       "      <td>False</td>\n",
       "      <td>False</td>\n",
       "      <td>1</td>\n",
       "    </tr>\n",
       "    <tr>\n",
       "      <th>356461</th>\n",
       "      <td>p999</td>\n",
       "      <td>7493</td>\n",
       "      <td>0</td>\n",
       "      <td>86.0</td>\n",
       "      <td>NaN</td>\n",
       "      <td>True</td>\n",
       "      <td>False</td>\n",
       "      <td>1</td>\n",
       "    </tr>\n",
       "    <tr>\n",
       "      <th>356462</th>\n",
       "      <td>p999</td>\n",
       "      <td>7549</td>\n",
       "      <td>0</td>\n",
       "      <td>NaN</td>\n",
       "      <td>NaN</td>\n",
       "      <td>False</td>\n",
       "      <td>False</td>\n",
       "      <td>1</td>\n",
       "    </tr>\n",
       "    <tr>\n",
       "      <th>356463</th>\n",
       "      <td>p999</td>\n",
       "      <td>7577</td>\n",
       "      <td>0</td>\n",
       "      <td>NaN</td>\n",
       "      <td>NaN</td>\n",
       "      <td>False</td>\n",
       "      <td>False</td>\n",
       "      <td>0</td>\n",
       "    </tr>\n",
       "    <tr>\n",
       "      <th>356464</th>\n",
       "      <td>p999</td>\n",
       "      <td>7610</td>\n",
       "      <td>0</td>\n",
       "      <td>90.0</td>\n",
       "      <td>NaN</td>\n",
       "      <td>False</td>\n",
       "      <td>False</td>\n",
       "      <td>0</td>\n",
       "    </tr>\n",
       "  </tbody>\n",
       "</table>\n",
       "<p>356465 rows × 8 columns</p>\n",
       "</div>"
      ],
      "text/plain": [
       "       player_id  match_id  is_in_starting_11  substitution_on  \\\n",
       "0             p1         4                  1              NaN   \n",
       "1             p1        12                  1              NaN   \n",
       "2             p1        24                  1              NaN   \n",
       "3             p1        41                  1              NaN   \n",
       "4             p1        46                  1              NaN   \n",
       "...          ...       ...                ...              ...   \n",
       "356460      p999      7462                  0             70.0   \n",
       "356461      p999      7493                  0             86.0   \n",
       "356462      p999      7549                  0              NaN   \n",
       "356463      p999      7577                  0              NaN   \n",
       "356464      p999      7610                  0             90.0   \n",
       "\n",
       "        substitution_off  yellow_card  red_card  is_home_side  \n",
       "0                    NaN        False     False             0  \n",
       "1                    NaN        False     False             1  \n",
       "2                    NaN        False     False             1  \n",
       "3                    NaN        False     False             0  \n",
       "4                   83.0         True     False             0  \n",
       "...                  ...          ...       ...           ...  \n",
       "356460               NaN        False     False             1  \n",
       "356461               NaN         True     False             1  \n",
       "356462               NaN        False     False             1  \n",
       "356463               NaN        False     False             0  \n",
       "356464               NaN        False     False             0  \n",
       "\n",
       "[356465 rows x 8 columns]"
      ]
     },
     "execution_count": 28,
     "metadata": {},
     "output_type": "execute_result"
    }
   ],
   "source": [
    "data_cleaned"
   ]
  },
  {
   "cell_type": "markdown",
   "id": "7cf5e52b-da77-4b25-b1c9-ff0a9e9f5e70",
   "metadata": {},
   "source": [
    "###### Missing Values"
   ]
  },
  {
   "cell_type": "code",
   "execution_count": 29,
   "id": "e9f430d0-4350-4220-874a-a4d543cb821a",
   "metadata": {},
   "outputs": [],
   "source": [
    "\n",
    "data_cleaned['substitution_on'].fillna(data_cleaned['substitution_on'].mean(), inplace=True)\n",
    "\n",
    "\n",
    "data_cleaned['substitution_off'].fillna(data_cleaned['substitution_off'].median(), inplace=True)\n"
   ]
  },
  {
   "cell_type": "code",
   "execution_count": 30,
   "id": "04bab6fb-dff6-47c9-9c97-704c08c41af4",
   "metadata": {},
   "outputs": [
    {
     "data": {
      "text/html": [
       "<div>\n",
       "<style scoped>\n",
       "    .dataframe tbody tr th:only-of-type {\n",
       "        vertical-align: middle;\n",
       "    }\n",
       "\n",
       "    .dataframe tbody tr th {\n",
       "        vertical-align: top;\n",
       "    }\n",
       "\n",
       "    .dataframe thead th {\n",
       "        text-align: right;\n",
       "    }\n",
       "</style>\n",
       "<table border=\"1\" class=\"dataframe\">\n",
       "  <thead>\n",
       "    <tr style=\"text-align: right;\">\n",
       "      <th></th>\n",
       "      <th>player_id</th>\n",
       "      <th>match_id</th>\n",
       "      <th>is_in_starting_11</th>\n",
       "      <th>substitution_on</th>\n",
       "      <th>substitution_off</th>\n",
       "      <th>yellow_card</th>\n",
       "      <th>red_card</th>\n",
       "      <th>is_home_side</th>\n",
       "    </tr>\n",
       "  </thead>\n",
       "  <tbody>\n",
       "    <tr>\n",
       "      <th>0</th>\n",
       "      <td>p1</td>\n",
       "      <td>4</td>\n",
       "      <td>1</td>\n",
       "      <td>69.074983</td>\n",
       "      <td>72.0</td>\n",
       "      <td>False</td>\n",
       "      <td>False</td>\n",
       "      <td>0</td>\n",
       "    </tr>\n",
       "    <tr>\n",
       "      <th>1</th>\n",
       "      <td>p1</td>\n",
       "      <td>12</td>\n",
       "      <td>1</td>\n",
       "      <td>69.074983</td>\n",
       "      <td>72.0</td>\n",
       "      <td>False</td>\n",
       "      <td>False</td>\n",
       "      <td>1</td>\n",
       "    </tr>\n",
       "    <tr>\n",
       "      <th>2</th>\n",
       "      <td>p1</td>\n",
       "      <td>24</td>\n",
       "      <td>1</td>\n",
       "      <td>69.074983</td>\n",
       "      <td>72.0</td>\n",
       "      <td>False</td>\n",
       "      <td>False</td>\n",
       "      <td>1</td>\n",
       "    </tr>\n",
       "    <tr>\n",
       "      <th>3</th>\n",
       "      <td>p1</td>\n",
       "      <td>41</td>\n",
       "      <td>1</td>\n",
       "      <td>69.074983</td>\n",
       "      <td>72.0</td>\n",
       "      <td>False</td>\n",
       "      <td>False</td>\n",
       "      <td>0</td>\n",
       "    </tr>\n",
       "    <tr>\n",
       "      <th>4</th>\n",
       "      <td>p1</td>\n",
       "      <td>46</td>\n",
       "      <td>1</td>\n",
       "      <td>69.074983</td>\n",
       "      <td>83.0</td>\n",
       "      <td>True</td>\n",
       "      <td>False</td>\n",
       "      <td>0</td>\n",
       "    </tr>\n",
       "    <tr>\n",
       "      <th>...</th>\n",
       "      <td>...</td>\n",
       "      <td>...</td>\n",
       "      <td>...</td>\n",
       "      <td>...</td>\n",
       "      <td>...</td>\n",
       "      <td>...</td>\n",
       "      <td>...</td>\n",
       "      <td>...</td>\n",
       "    </tr>\n",
       "    <tr>\n",
       "      <th>356460</th>\n",
       "      <td>p999</td>\n",
       "      <td>7462</td>\n",
       "      <td>0</td>\n",
       "      <td>70.000000</td>\n",
       "      <td>72.0</td>\n",
       "      <td>False</td>\n",
       "      <td>False</td>\n",
       "      <td>1</td>\n",
       "    </tr>\n",
       "    <tr>\n",
       "      <th>356461</th>\n",
       "      <td>p999</td>\n",
       "      <td>7493</td>\n",
       "      <td>0</td>\n",
       "      <td>86.000000</td>\n",
       "      <td>72.0</td>\n",
       "      <td>True</td>\n",
       "      <td>False</td>\n",
       "      <td>1</td>\n",
       "    </tr>\n",
       "    <tr>\n",
       "      <th>356462</th>\n",
       "      <td>p999</td>\n",
       "      <td>7549</td>\n",
       "      <td>0</td>\n",
       "      <td>69.074983</td>\n",
       "      <td>72.0</td>\n",
       "      <td>False</td>\n",
       "      <td>False</td>\n",
       "      <td>1</td>\n",
       "    </tr>\n",
       "    <tr>\n",
       "      <th>356463</th>\n",
       "      <td>p999</td>\n",
       "      <td>7577</td>\n",
       "      <td>0</td>\n",
       "      <td>69.074983</td>\n",
       "      <td>72.0</td>\n",
       "      <td>False</td>\n",
       "      <td>False</td>\n",
       "      <td>0</td>\n",
       "    </tr>\n",
       "    <tr>\n",
       "      <th>356464</th>\n",
       "      <td>p999</td>\n",
       "      <td>7610</td>\n",
       "      <td>0</td>\n",
       "      <td>90.000000</td>\n",
       "      <td>72.0</td>\n",
       "      <td>False</td>\n",
       "      <td>False</td>\n",
       "      <td>0</td>\n",
       "    </tr>\n",
       "  </tbody>\n",
       "</table>\n",
       "<p>356465 rows × 8 columns</p>\n",
       "</div>"
      ],
      "text/plain": [
       "       player_id  match_id  is_in_starting_11  substitution_on  \\\n",
       "0             p1         4                  1        69.074983   \n",
       "1             p1        12                  1        69.074983   \n",
       "2             p1        24                  1        69.074983   \n",
       "3             p1        41                  1        69.074983   \n",
       "4             p1        46                  1        69.074983   \n",
       "...          ...       ...                ...              ...   \n",
       "356460      p999      7462                  0        70.000000   \n",
       "356461      p999      7493                  0        86.000000   \n",
       "356462      p999      7549                  0        69.074983   \n",
       "356463      p999      7577                  0        69.074983   \n",
       "356464      p999      7610                  0        90.000000   \n",
       "\n",
       "        substitution_off  yellow_card  red_card  is_home_side  \n",
       "0                   72.0        False     False             0  \n",
       "1                   72.0        False     False             1  \n",
       "2                   72.0        False     False             1  \n",
       "3                   72.0        False     False             0  \n",
       "4                   83.0         True     False             0  \n",
       "...                  ...          ...       ...           ...  \n",
       "356460              72.0        False     False             1  \n",
       "356461              72.0         True     False             1  \n",
       "356462              72.0        False     False             1  \n",
       "356463              72.0        False     False             0  \n",
       "356464              72.0        False     False             0  \n",
       "\n",
       "[356465 rows x 8 columns]"
      ]
     },
     "execution_count": 30,
     "metadata": {},
     "output_type": "execute_result"
    }
   ],
   "source": [
    "data_cleaned"
   ]
  },
  {
   "cell_type": "code",
   "execution_count": 31,
   "id": "9f95b224-d855-4fd8-999d-eef04f969a77",
   "metadata": {},
   "outputs": [
    {
     "name": "stdout",
     "output_type": "stream",
     "text": [
      "0\n"
     ]
    }
   ],
   "source": [
    "print(data_cleaned.duplicated().sum()) "
   ]
  },
  {
   "cell_type": "code",
   "execution_count": 32,
   "id": "302fbe85-9ff2-43c3-a834-b85a6b5ba101",
   "metadata": {},
   "outputs": [
    {
     "data": {
      "text/html": [
       "<div>\n",
       "<style scoped>\n",
       "    .dataframe tbody tr th:only-of-type {\n",
       "        vertical-align: middle;\n",
       "    }\n",
       "\n",
       "    .dataframe tbody tr th {\n",
       "        vertical-align: top;\n",
       "    }\n",
       "\n",
       "    .dataframe thead th {\n",
       "        text-align: right;\n",
       "    }\n",
       "</style>\n",
       "<table border=\"1\" class=\"dataframe\">\n",
       "  <thead>\n",
       "    <tr style=\"text-align: right;\">\n",
       "      <th></th>\n",
       "      <th>match_id</th>\n",
       "      <th>is_in_starting_11</th>\n",
       "      <th>substitution_on</th>\n",
       "      <th>substitution_off</th>\n",
       "      <th>is_home_side</th>\n",
       "    </tr>\n",
       "  </thead>\n",
       "  <tbody>\n",
       "    <tr>\n",
       "      <th>count</th>\n",
       "      <td>356465.000000</td>\n",
       "      <td>356465.000000</td>\n",
       "      <td>52852.000000</td>\n",
       "      <td>52887.000000</td>\n",
       "      <td>356465.000000</td>\n",
       "    </tr>\n",
       "    <tr>\n",
       "      <th>mean</th>\n",
       "      <td>13094.649615</td>\n",
       "      <td>0.710202</td>\n",
       "      <td>69.074983</td>\n",
       "      <td>69.086486</td>\n",
       "      <td>0.500086</td>\n",
       "    </tr>\n",
       "    <tr>\n",
       "      <th>std</th>\n",
       "      <td>17047.732712</td>\n",
       "      <td>0.453669</td>\n",
       "      <td>15.969170</td>\n",
       "      <td>15.971740</td>\n",
       "      <td>0.500001</td>\n",
       "    </tr>\n",
       "    <tr>\n",
       "      <th>min</th>\n",
       "      <td>1.000000</td>\n",
       "      <td>0.000000</td>\n",
       "      <td>2.000000</td>\n",
       "      <td>2.000000</td>\n",
       "      <td>0.000000</td>\n",
       "    </tr>\n",
       "    <tr>\n",
       "      <th>25%</th>\n",
       "      <td>3531.000000</td>\n",
       "      <td>0.000000</td>\n",
       "      <td>61.000000</td>\n",
       "      <td>61.000000</td>\n",
       "      <td>0.000000</td>\n",
       "    </tr>\n",
       "    <tr>\n",
       "      <th>50%</th>\n",
       "      <td>6616.000000</td>\n",
       "      <td>1.000000</td>\n",
       "      <td>72.000000</td>\n",
       "      <td>72.000000</td>\n",
       "      <td>1.000000</td>\n",
       "    </tr>\n",
       "    <tr>\n",
       "      <th>75%</th>\n",
       "      <td>12221.000000</td>\n",
       "      <td>1.000000</td>\n",
       "      <td>81.000000</td>\n",
       "      <td>81.000000</td>\n",
       "      <td>1.000000</td>\n",
       "    </tr>\n",
       "    <tr>\n",
       "      <th>max</th>\n",
       "      <td>66601.000000</td>\n",
       "      <td>1.000000</td>\n",
       "      <td>90.000000</td>\n",
       "      <td>90.000000</td>\n",
       "      <td>1.000000</td>\n",
       "    </tr>\n",
       "  </tbody>\n",
       "</table>\n",
       "</div>"
      ],
      "text/plain": [
       "            match_id  is_in_starting_11  substitution_on  substitution_off  \\\n",
       "count  356465.000000      356465.000000     52852.000000      52887.000000   \n",
       "mean    13094.649615           0.710202        69.074983         69.086486   \n",
       "std     17047.732712           0.453669        15.969170         15.971740   \n",
       "min         1.000000           0.000000         2.000000          2.000000   \n",
       "25%      3531.000000           0.000000        61.000000         61.000000   \n",
       "50%      6616.000000           1.000000        72.000000         72.000000   \n",
       "75%     12221.000000           1.000000        81.000000         81.000000   \n",
       "max     66601.000000           1.000000        90.000000         90.000000   \n",
       "\n",
       "        is_home_side  \n",
       "count  356465.000000  \n",
       "mean        0.500086  \n",
       "std         0.500001  \n",
       "min         0.000000  \n",
       "25%         0.000000  \n",
       "50%         1.000000  \n",
       "75%         1.000000  \n",
       "max         1.000000  "
      ]
     },
     "execution_count": 32,
     "metadata": {},
     "output_type": "execute_result"
    }
   ],
   "source": [
    "df.describe()"
   ]
  },
  {
   "cell_type": "markdown",
   "id": "d6ab0ee0-2db6-4b24-8e0e-eb4675f75140",
   "metadata": {},
   "source": [
    "#### Correlation Heatmap"
   ]
  },
  {
   "cell_type": "code",
   "execution_count": 33,
   "id": "1cc17726-b92d-4c2b-8033-a77221bcaa0a",
   "metadata": {},
   "outputs": [
    {
     "data": {
      "image/png": "[encoded data removed]",
      "text/plain": [
       "<Figure size 1000x800 with 2 Axes>"
      ]
     },
     "metadata": {},
     "output_type": "display_data"
    }
   ],
   "source": [
    "# Select numeric columns\n",
    "numeric_df = df.select_dtypes(include=['number'])\n",
    "\n",
    "plt.figure(figsize=(10, 8))\n",
    "sns.heatmap(numeric_df.corr(), annot=True, cmap='coolwarm', fmt=\".2f\")\n",
    "plt.title(\"Correlation Heatmap\")\n",
    "plt.show()"
   ]
  },
  {
   "cell_type": "markdown",
   "id": "b0194a73-2310-4e9c-a209-e218bacc2033",
   "metadata": {},
   "source": [
    "**Observation:** The heatmap visualizes the correlation between numeric variables in the dataset, displaying values that indicate how strongly variables are related to each other. The color intensity represents the strength of the correlation, with darker colors indicating stronger correlations. The numbers within the cells show the actual correlation coefficients.\n",
    "\n",
    "**Conclusion:** This correlation heatmap is a useful tool for identifying relationships between numeric variables, which could inform feature selection for machine learning models. Strong correlations between certain features may suggest redundancy, while weaker correlations could indicate more independent variables. Understanding these relationships helps in refining the model and preventing issues like multicollinearity, ensuring better predictive performance."
   ]
  },
  {
   "cell_type": "markdown",
   "id": "9b17a8a9-40cc-4cb7-95c9-09aed31aeee9",
   "metadata": {},
   "source": [
    "#### Encoding Categorical Data "
   ]
  },
  {
   "cell_type": "code",
   "execution_count": 34,
   "id": "1324e5b9-3e98-4c25-ac6f-ebb98af46f7e",
   "metadata": {},
   "outputs": [
    {
     "name": "stdout",
     "output_type": "stream",
     "text": [
      "Encoded DataFrame:\n",
      "   player_id  match_id  is_in_starting_11  substitution_on  substitution_off  \\\n",
      "0          0         4                  1              109               109   \n",
      "1          0        12                  1              109               109   \n",
      "2          0        24                  1              109               109   \n",
      "3          0        41                  1              109               109   \n",
      "4          0        46                  1              109                88   \n",
      "\n",
      "   yellow_card  red_card  is_home_side  \n",
      "0            0         0             0  \n",
      "1            0         0             1  \n",
      "2            0         0             1  \n",
      "3            0         0             0  \n",
      "4            1         0             0  \n"
     ]
    }
   ],
   "source": [
    "def encode_categorical(df):\n",
    "\n",
    "    for col in df.select_dtypes(include=['object', 'category']):\n",
    "        df[col] = df[col].astype('category').cat.codes\n",
    "    return df\n",
    "\n",
    "df=pd.read_csv( \"C:\\\\Users\\\\DELL8\\\\OneDrive\\\\Desktop\\\\player_stats.csv\")\n",
    "\n",
    "# Encode categorical columns\n",
    "encoded_df = encode_categorical(df)\n",
    "\n",
    "# Display the encoded DataFrame\n",
    "print(\"Encoded DataFrame:\")\n",
    "print(encoded_df.head())\n"
   ]
  },
  {
   "cell_type": "markdown",
   "id": "265e010a-5490-4f2f-ab1a-9b4356c00e4f",
   "metadata": {},
   "source": [
    "**Observation:** The function `encode_categorical()` converts categorical columns in the dataset into numeric codes, making them ready for machine learning models that require numerical inputs. After applying this function, the categorical values in columns like player names, positions, or other non-numeric features are now represented by integer codes.\n",
    "\n",
    "**Conclusion:** Encoding categorical variables is a crucial preprocessing step before using the data in machine learning models. By converting categorical data into numerical form, the dataset becomes suitable for algorithms that can’t process non-numeric data directly. This step helps ensure that the dataset is ready for model training and analysis, enabling more accurate predictions and insights."
   ]
  },
  {
   "cell_type": "markdown",
   "id": "a7e28e23-90c6-49a1-9193-4eaa6bd0a413",
   "metadata": {},
   "source": [
    "#### Distribution of Starting Players (is_in_starting_11)"
   ]
  },
  {
   "cell_type": "code",
   "execution_count": 35,
   "id": "27192e94-4b93-43f4-a6ee-de8d2d578677",
   "metadata": {},
   "outputs": [
    {
     "data": {
      "image/png": "[encoded data removed]",
      "text/plain": [
       "<Figure size 1000x600 with 1 Axes>"
      ]
     },
     "metadata": {},
     "output_type": "display_data"
    }
   ],
   "source": [
    "\n",
    "\n",
    "plt.figure(figsize=(10, 6))\n",
    "sns.barplot(x=df['is_in_starting_11'].value_counts().index,  \n",
    "            y=df['is_in_starting_11'].value_counts().values, \n",
    "            palette='viridis')\n",
    "\n",
    "plt.title(\" Count of Players in Starting 11 vs. Not Starting\", fontsize=14)\n",
    "plt.xlabel(\"Starting Status (0 = No, 1 = Yes)\", fontsize=12)\n",
    "plt.ylabel(\"Number of Players\", fontsize=12)\n",
    "plt.xticks([0, 1], labels=[\"Not in Starting 11\", \"In Starting 11\"])  \n",
    "\n",
    "plt.grid(axis='y', linestyle='--', alpha=0.7)\n",
    "plt.show()\n"
   ]
  },
  {
   "cell_type": "markdown",
   "id": "598fd63b-992a-4df4-96e7-1b01455ca13a",
   "metadata": {},
   "source": [
    "**Observation:** The count plot visualizes the distribution of players in the starting lineup, with two categories: players who are in the starting 11 (represented by 1) and those who are not (represented by 0). The chart shows the frequency of each category, indicating how many players are typically in the starting lineup versus those who are not.\n",
    "\n",
    "**Conclusion:** This plot highlights the overall participation rate of players in the starting 11. Understanding this distribution can help identify player rotation patterns or strategies used by coaches. Further analysis could assess how this affects player performance or injury rates, particularly if there are correlations between starting lineups and the frequency of injuries."
   ]
  },
  {
   "cell_type": "markdown",
   "id": "9c198af5-fffc-4be0-82cf-8809b9d15de7",
   "metadata": {},
   "source": [
    "#### Percentage of Home vs. Away Matche"
   ]
  },
  {
   "cell_type": "code",
   "execution_count": 36,
   "id": "f484e5bf-195f-468f-af55-f12920000ada",
   "metadata": {},
   "outputs": [
    {
     "data": {
      "image/png": "[encoded data removed]",
      "text/plain": [
       "<Figure size 800x600 with 1 Axes>"
      ]
     },
     "metadata": {},
     "output_type": "display_data"
    }
   ],
   "source": [
    "plt.figure(figsize=(8, 6))\n",
    "home_away_counts = df['is_home_side'].value_counts()\n",
    "labels = ['Home', 'Away']\n",
    "plt.pie(home_away_counts, labels=labels, autopct='%1.1f%%', startangle=90, colors=['lightblue', 'pink'])\n",
    "plt.title(\"Percentage of Home vs. Away Matches\")\n",
    "plt.show()"
   ]
  },
  {
   "cell_type": "markdown",
   "id": "81616274-f713-4efc-bb22-4c635997594e",
   "metadata": {},
   "source": [
    "**Observation:** The pie chart illustrates the proportion of home versus away matches in the dataset. The chart shows the percentage of games played at home compared to those played away, with clear visual representation of how these match locations are distributed.\n",
    "\n",
    "**Conclusion:** The chart provides insight into the distribution of matches between home and away games, which could be useful for analyzing factors like home-field advantage or player performance in different environments. Further analysis could explore whether these match types correlate with injury rates, player performance, or other factors."
   ]
  },
  {
   "cell_type": "markdown",
   "id": "df258c43-8a5a-4576-9437-0e89ebf27507",
   "metadata": {},
   "source": [
    "##### . Player Participation in Starting Lineups"
   ]
  },
  {
   "cell_type": "code",
   "execution_count": 37,
   "id": "7451813f-7424-4464-8f3f-e9703323c4eb",
   "metadata": {},
   "outputs": [
    {
     "data": {
      "image/png": "[encoded data removed]",
      "text/plain": [
       "<Figure size 1200x600 with 1 Axes>"
      ]
     },
     "metadata": {},
     "output_type": "display_data"
    }
   ],
   "source": [
    "\n",
    "plt.figure(figsize=(12, 6))\n",
    "df.groupby('player_id')['is_in_starting_11'].sum().nlargest(10).plot(kind='bar', color='skyblue')\n",
    "plt.title('Top 10 Players with Most Starts')\n",
    "plt.xlabel('Player ID')\n",
    "plt.ylabel('Number of Starts')\n",
    "plt.show()"
   ]
  },
  {
   "cell_type": "markdown",
   "id": "ad18849d-5588-4a46-badc-60db8d357f0b",
   "metadata": {},
   "source": [
    "### Merging Player Injury Data and player_stats"
   ]
  },
  {
   "cell_type": "code",
   "execution_count": 38,
   "id": "98312ffe-eaf8-402e-80f5-b6605e3fc4fa",
   "metadata": {},
   "outputs": [
    {
     "data": {
      "text/html": [
       "<div>\n",
       "<style scoped>\n",
       "    .dataframe tbody tr th:only-of-type {\n",
       "        vertical-align: middle;\n",
       "    }\n",
       "\n",
       "    .dataframe tbody tr th {\n",
       "        vertical-align: top;\n",
       "    }\n",
       "\n",
       "    .dataframe thead th {\n",
       "        text-align: right;\n",
       "    }\n",
       "</style>\n",
       "<table border=\"1\" class=\"dataframe\">\n",
       "  <thead>\n",
       "    <tr style=\"text-align: right;\">\n",
       "      <th></th>\n",
       "      <th>player_id</th>\n",
       "      <th>match_id</th>\n",
       "      <th>is_in_starting_11</th>\n",
       "      <th>substitution_on</th>\n",
       "      <th>substitution_off</th>\n",
       "      <th>yellow_card</th>\n",
       "      <th>red_card</th>\n",
       "      <th>is_home_side</th>\n",
       "      <th>date</th>\n",
       "    </tr>\n",
       "  </thead>\n",
       "  <tbody>\n",
       "    <tr>\n",
       "      <th>0</th>\n",
       "      <td>1</td>\n",
       "      <td>9630</td>\n",
       "      <td>1</td>\n",
       "      <td>109</td>\n",
       "      <td>109</td>\n",
       "      <td>0</td>\n",
       "      <td>0</td>\n",
       "      <td>0</td>\n",
       "      <td>2016-05-11</td>\n",
       "    </tr>\n",
       "    <tr>\n",
       "      <th>1</th>\n",
       "      <td>1</td>\n",
       "      <td>9630</td>\n",
       "      <td>1</td>\n",
       "      <td>109</td>\n",
       "      <td>109</td>\n",
       "      <td>0</td>\n",
       "      <td>0</td>\n",
       "      <td>0</td>\n",
       "      <td>2016-05-16</td>\n",
       "    </tr>\n",
       "    <tr>\n",
       "      <th>2</th>\n",
       "      <td>1</td>\n",
       "      <td>9630</td>\n",
       "      <td>1</td>\n",
       "      <td>109</td>\n",
       "      <td>109</td>\n",
       "      <td>0</td>\n",
       "      <td>0</td>\n",
       "      <td>0</td>\n",
       "      <td>2016-07-28</td>\n",
       "    </tr>\n",
       "    <tr>\n",
       "      <th>3</th>\n",
       "      <td>1</td>\n",
       "      <td>9630</td>\n",
       "      <td>1</td>\n",
       "      <td>109</td>\n",
       "      <td>109</td>\n",
       "      <td>0</td>\n",
       "      <td>0</td>\n",
       "      <td>0</td>\n",
       "      <td>2016-11-11</td>\n",
       "    </tr>\n",
       "    <tr>\n",
       "      <th>4</th>\n",
       "      <td>1</td>\n",
       "      <td>9630</td>\n",
       "      <td>1</td>\n",
       "      <td>109</td>\n",
       "      <td>109</td>\n",
       "      <td>0</td>\n",
       "      <td>0</td>\n",
       "      <td>0</td>\n",
       "      <td>2016-12-16</td>\n",
       "    </tr>\n",
       "  </tbody>\n",
       "</table>\n",
       "</div>"
      ],
      "text/plain": [
       "  player_id  match_id  is_in_starting_11  substitution_on  substitution_off  \\\n",
       "0         1      9630                  1              109               109   \n",
       "1         1      9630                  1              109               109   \n",
       "2         1      9630                  1              109               109   \n",
       "3         1      9630                  1              109               109   \n",
       "4         1      9630                  1              109               109   \n",
       "\n",
       "   yellow_card  red_card  is_home_side       date  \n",
       "0            0         0             0 2016-05-11  \n",
       "1            0         0             0 2016-05-16  \n",
       "2            0         0             0 2016-07-28  \n",
       "3            0         0             0 2016-11-11  \n",
       "4            0         0             0 2016-12-16  "
      ]
     },
     "execution_count": 38,
     "metadata": {},
     "output_type": "execute_result"
    }
   ],
   "source": [
    "\n",
    "plr_injuries_df.rename(columns={'athlete_id': 'player_id'}, inplace=True)\n",
    "df[\"player_id\"] =df[\"player_id\"].astype(str)\n",
    "plr_injuries_df[\"player_id\"] = plr_injuries_df[\"player_id\"].astype(str)\n",
    "\n",
    "combined_data = pd.merge(df, plr_injuries_df, on=\"player_id\", how=\"inner\")\n",
    "\n",
    "# Display the first few rows of the combined dataset to verify\n",
    "combined_data.head()\n"
   ]
  },
  {
   "cell_type": "code",
   "execution_count": 39,
   "id": "80553a2b-415c-45d6-8ccb-d9562c029612",
   "metadata": {},
   "outputs": [
    {
     "data": {
      "text/plain": [
       "(array(['0', '1', '2', '3', '4', '5', '6', '7', '8', '9'], dtype=object),\n",
       " array(['1', '2', '3', '4', '5', '6', '7', '8', '9', '10'], dtype=object))"
      ]
     },
     "execution_count": 39,
     "metadata": {},
     "output_type": "execute_result"
    }
   ],
   "source": [
    "\n",
    "unique_player_stats_ids = df[\"player_id\"].unique()\n",
    "unique_injuries_ids =  plr_injuries_df[\"player_id\"].unique()\n",
    "\n",
    "\n",
    "unique_player_stats_ids[:10], unique_injuries_ids[:10]  #\n"
   ]
  },
  {
   "cell_type": "code",
   "execution_count": 40,
   "id": "253fbbfb-239c-4d6a-8c82-b75863b3a2a7",
   "metadata": {},
   "outputs": [
    {
     "name": "stdout",
     "output_type": "stream",
     "text": [
      "Index(['player_id', 'match_id', 'is_in_starting_11', 'substitution_on',\n",
      "       'substitution_off', 'yellow_card', 'red_card', 'is_home_side', 'date'],\n",
      "      dtype='object')\n"
     ]
    }
   ],
   "source": [
    "print(combined_data.columns)\n"
   ]
  },
  {
   "cell_type": "markdown",
   "id": "5a0edd09-379e-4e47-b7de-68a992c08ba5",
   "metadata": {},
   "source": [
    "#### Frequency of Injuries Over Time"
   ]
  },
  {
   "cell_type": "code",
   "execution_count": 41,
   "id": "c5cd8257-00c4-44ad-bb64-f22318e974c2",
   "metadata": {},
   "outputs": [
    {
     "name": "stdout",
     "output_type": "stream",
     "text": [
      "date\n",
      "2016-05-04     62\n",
      "2016-05-11    148\n",
      "2016-05-14      2\n",
      "2016-05-16    334\n",
      "2016-05-23     21\n",
      "             ... \n",
      "2018-03-30      2\n",
      "2018-04-02     98\n",
      "2018-04-25     12\n",
      "2018-04-27     76\n",
      "2018-04-30      2\n",
      "Name: count, Length: 126, dtype: int64\n"
     ]
    }
   ],
   "source": [
    "\n",
    "injury_counts = combined_data['date'].value_counts().sort_index()\n",
    "print(injury_counts)\n"
   ]
  },
  {
   "cell_type": "markdown",
   "id": "90ea435f-c9b2-4123-a6a1-18fab1526c04",
   "metadata": {},
   "source": [
    "#### Injuries Over Time"
   ]
  },
  {
   "cell_type": "code",
   "execution_count": 42,
   "id": "e65c1750-6d31-496c-9445-51c3bd730e85",
   "metadata": {},
   "outputs": [
    {
     "data": {
      "image/png": "[encoded data removed]",
      "text/plain": [
       "<Figure size 1400x700 with 1 Axes>"
      ]
     },
     "metadata": {},
     "output_type": "display_data"
    }
   ],
   "source": [
    "injury_counts = combined_data['date'].value_counts().sort_index()\n",
    "plt.figure(figsize=(14, 7))\n",
    "plt.bar(injury_counts.index, injury_counts.values, color='salmon')\n",
    "plt.xticks(rotation=45)\n",
    "plt.title(\"Injuries Over Time\")\n",
    "plt.xlabel(\"Date\")\n",
    "plt.ylabel(\"Injury Count\")\n",
    "plt.grid(axis='y', linestyle='--', linewidth=0.7)\n",
    "plt.show()"
   ]
  },
  {
   "cell_type": "markdown",
   "id": "0aaf5ee5-3671-44d2-afd9-bac7ed2518ed",
   "metadata": {},
   "source": [
    "**Observation:** The line plot visualizes the trend of injuries over time, showing how the injury count fluctuates across different dates. It allows for easy identification of periods with a higher or lower incidence of injuries, helping to discern any patterns or trends over the timeline.\n",
    "\n",
    "**Conclusion:** By analyzing the injury trend over time, teams and management can identify peak injury periods and assess potential causes, such as intense match schedules, seasonal effects, or other factors. Understanding these trends can inform strategies for injury prevention, such as adjusting training intensity or optimizing player recovery during high-risk periods."
   ]
  },
  {
   "cell_type": "markdown",
   "id": "bbf27258-2a8b-4fcc-8ebe-4ba4066dca94",
   "metadata": {},
   "source": [
    "#### Top 10 Players with Most Injuries"
   ]
  },
  {
   "cell_type": "code",
   "execution_count": 43,
   "id": "eaf8eba2-c47d-4862-abd8-da63d5340ac0",
   "metadata": {},
   "outputs": [
    {
     "data": {
      "image/png": "[encoded data removed]",
      "text/plain": [
       "<Figure size 1200x600 with 1 Axes>"
      ]
     },
     "metadata": {},
     "output_type": "display_data"
    }
   ],
   "source": [
    "\n",
    "player_injury_counts = combined_data['player_id'].value_counts().head(10)\n",
    "\n",
    "plt.figure(figsize=(12, 6))\n",
    "sns.barplot(x=player_injury_counts.index, y=player_injury_counts.values, palette='viridis')\n",
    "plt.title(\"Top 10 Players with Most Injuries\", fontsize=16)\n",
    "plt.xlabel(\"Player ID\", fontsize=14)\n",
    "plt.ylabel(\"Number of Injuries\", fontsize=14)\n",
    "plt.xticks(rotation=45)\n",
    "plt.tight_layout()\n",
    "plt.show()"
   ]
  },
  {
   "cell_type": "markdown",
   "id": "884e9d80-9f6f-4f81-a859-a049bc25b640",
   "metadata": {},
   "source": [
    "**Observation:** The bar chart showcases the top 10 players with the most injuries, with each player’s injury count represented by the height of the corresponding bar. The chart reveals the players most affected by injuries, which could point to specific individuals who may require extra attention in terms of recovery or injury prevention.\n",
    "\n",
    "**Conclusion:** Identifying players with the highest injury counts can help teams tailor specific health and fitness strategies to reduce their risk. It may also indicate whether certain players are more prone to injuries due to factors such as playing style, position, or physical condition. Further analysis could focus on identifying common factors among these players to prevent future injuries."
   ]
  },
  {
   "cell_type": "markdown",
   "id": "e61e5b22-5bbd-4b23-b115-86f272e9710e",
   "metadata": {},
   "source": [
    "### **Strategies to Reduce Player Injuries**  \n",
    "\n",
    "To effectively reduce player injuries, it is crucial to adopt a holistic approach that includes monitoring training loads, ensuring proper warm-up and cool-down routines, and analyzing injury data patterns. Balanced training schedules with adequate rest periods help prevent overtraining, while dynamic stretching and mobility drills before matches, followed by static stretching and foam rolling afterward, reduce muscle stiffness and injury risks. Optimizing substitution strategies based on player fatigue and performance data can also prevent excessive strain. Personalized nutrition and hydration plans, combined with recovery techniques such as cryotherapy and massage therapy, further support injury prevention. Mental well-being should not be overlooked, as stress and fatigue contribute to injury risks. By analyzing injury timing and match events, teams can identify high-risk periods and make tactical adjustments to safeguard players, ensuring better health, improved performance, and fewer injuries."
   ]
  },
  {
   "cell_type": "markdown",
   "id": "50a00592-7c40-4639-9bfe-4b720b6e0e41",
   "metadata": {},
   "source": [
    " #### Injury Distribution by Month"
   ]
  },
  {
   "cell_type": "code",
   "execution_count": 44,
   "id": "69745f66-95ee-461a-9367-7024df871a7b",
   "metadata": {},
   "outputs": [
    {
     "data": {
      "image/png": "[encoded data removed]",
      "text/plain": [
       "<Figure size 1200x600 with 1 Axes>"
      ]
     },
     "metadata": {},
     "output_type": "display_data"
    }
   ],
   "source": [
    "combined_data['month'] = combined_data['date'].dt.month\n",
    "monthly_injury_counts = combined_data['month'].value_counts().sort_index()\n",
    "\n",
    "plt.figure(figsize=(12, 6))\n",
    "sns.barplot(x=monthly_injury_counts.index, y=monthly_injury_counts.values, palette='magma')\n",
    "plt.title(\"Injury Distribution by Month\", fontsize=16)\n",
    "plt.xlabel(\"Month\", fontsize=14)\n",
    "plt.ylabel(\"Number of Injuries\", fontsize=14)\n",
    "plt.tight_layout()\n",
    "plt.show()\n"
   ]
  },
  {
   "cell_type": "markdown",
   "id": "647b2b27-113d-457c-b949-ba7de457b290",
   "metadata": {},
   "source": [
    "**Observation:**\n",
    "The bar chart displays the distribution of injuries by month, with each bar representing the number of injuries recorded for that particular month. The chart reveals fluctuations in injury counts across the months, suggesting certain periods of the year may have higher injury occurrences than others.\n",
    "\n",
    "**Conclusion:**\n",
    "The analysis indicates that injury rates may vary seasonally or due to other factors such as match intensity, weather conditions, or player fatigue. Further exploration could identify specific months with unusually high injury rates, allowing teams to focus on prevention strategies during those times. Additionally, examining correlations with match schedules or training loads could provide further insights."
   ]
  },
  {
   "cell_type": "markdown",
   "id": "3e596998-1c1f-4dd4-90a6-a304519fe97d",
   "metadata": {},
   "source": [
    "\n",
    "##### Yellow and Red Cards for Injured Player\n"
   ]
  },
  {
   "cell_type": "code",
   "execution_count": 45,
   "id": "da5a67f9-0a08-4127-93c9-b0b7d7ffb56e",
   "metadata": {},
   "outputs": [
    {
     "data": {
      "text/plain": [
       "<Figure size 1200x600 with 0 Axes>"
      ]
     },
     "metadata": {},
     "output_type": "display_data"
    },
    {
     "data": {
      "image/png": "[encoded data removed]",
      "text/plain": [
       "<Figure size 1200x600 with 1 Axes>"
      ]
     },
     "metadata": {},
     "output_type": "display_data"
    }
   ],
   "source": [
    "plt.figure(figsize=(12, 6))\n",
    "card_counts = combined_data.groupby('player_id').agg(yellow=('yellow_card', 'count'), red=('red_card', 'count')).nlargest(10, 'yellow')\n",
    "card_counts.plot(kind='bar', stacked=True, color=['yellow', 'red'], figsize=(12, 6))\n",
    "plt.title('Yellow and Red Cards for Injured Players')\n",
    "plt.show()\n"
   ]
  },
  {
   "cell_type": "markdown",
   "id": "fe179d5c-6c21-4b2a-9957-6feb757bf934",
   "metadata": {},
   "source": [
    "#### Home vs. Away Injuries"
   ]
  },
  {
   "cell_type": "code",
   "execution_count": 46,
   "id": "b4320a5a-47c2-412b-b318-1aa39d5e413e",
   "metadata": {},
   "outputs": [
    {
     "data": {
      "image/png": "[encoded data removed]",
      "text/plain": [
       "<Figure size 800x800 with 1 Axes>"
      ]
     },
     "metadata": {},
     "output_type": "display_data"
    }
   ],
   "source": [
    "home_away_counts = combined_data['is_home_side'].value_counts()\n",
    "\n",
    "plt.figure(figsize=(8, 8))\n",
    "home_away_counts.plot(kind='pie', labels=['Away', 'Home'], autopct='%1.1f%%', startangle=90, colors=['lightblue', 'salmon'])\n",
    "plt.title(\"Home vs. Away Injuries\", fontsize=16)\n",
    "plt.ylabel(\"\")  # Hides the y-axis label\n",
    "plt.tight_layout()\n",
    "plt.show()\n"
   ]
  },
  {
   "cell_type": "markdown",
   "id": "9612cd4a-ea91-4a08-a9af-397b4e9327df",
   "metadata": {},
   "source": [
    "##### Observation:\n",
    "The pie chart shows the distribution of injuries between home and away matches. The chart reveals the percentage of injuries occurring in each location, with a visual comparison of how the occurrences are divided. The differences in the proportions of injuries between home and away matches suggest there may be a location-based factor influencing injury frequency.\n",
    "\n",
    "##### Conclusion: \n",
    "The distribution of injuries between home and away matches could indicate that external factors such as travel, crowd pressure, or environmental conditions might affect injury rates. Further analysis could explore whether this trend holds across different teams, player types, or match conditions to provide deeper insights into how location impacts player injuries."
   ]
  },
  {
   "cell_type": "code",
   "execution_count": 47,
   "id": "9eb216b9-b4c6-4af2-88aa-07ffe564fb6c",
   "metadata": {},
   "outputs": [
    {
     "name": "stdout",
     "output_type": "stream",
     "text": [
      "Index(['player_id', 'match_id', 'is_in_starting_11', 'substitution_on',\n",
      "       'substitution_off', 'yellow_card', 'red_card', 'is_home_side', 'date',\n",
      "       'month'],\n",
      "      dtype='object')\n"
     ]
    }
   ],
   "source": [
    "print(combined_data.columns)\n"
   ]
  },
  {
   "cell_type": "markdown",
   "id": "3f4dcf8b-69cf-44e5-9d49-4bd3590f6cc7",
   "metadata": {},
   "source": [
    "#### Player Participation Before and After Injuries"
   ]
  },
  {
   "cell_type": "code",
   "execution_count": 48,
   "id": "684fa0e4-22f8-48e7-a51f-a1b3713c245e",
   "metadata": {},
   "outputs": [
    {
     "data": {
      "image/png": "[encoded data removed]",
      "text/plain": [
       "<Figure size 1200x600 with 1 Axes>"
      ]
     },
     "metadata": {},
     "output_type": "display_data"
    }
   ],
   "source": [
    "\n",
    "participation_before = combined_data[combined_data['is_in_starting_11'] == 1].groupby('player_id').size()\n",
    "participation_after = combined_data[combined_data['is_in_starting_11'] == 0].groupby('player_id').size()\n",
    "\n",
    "# Prepare data\n",
    "impact_data = pd.DataFrame({\n",
    "    'Matches Before Injuries': participation_before,\n",
    "    'Matches After Injuries': participation_after\n",
    "}).fillna(0).head(10)\n",
    "\n",
    "\n",
    "# Plot\n",
    "impact_data.plot(kind='bar', figsize=(12, 6), colormap='viridis')\n",
    "plt.title(\"Player Participation Before and After Injuries\", fontsize=18)\n",
    "plt.xlabel(\"Player ID\", fontsize=14)\n",
    "plt.ylabel(\"Number of Matches\", fontsize=14)\n",
    "plt.xticks(rotation=45, fontsize=12)\n",
    "plt.yticks(fontsize=12)\n",
    "plt.legend(fontsize=12)\n",
    "plt.tight_layout()\n",
    "plt.show()\n"
   ]
  },
  {
   "cell_type": "markdown",
   "id": "0afab6d7-e71c-4e0e-b538-da58c37efcc5",
   "metadata": {},
   "source": [
    "##### Observation:\n",
    "The bar chart compares player participation in matches before and after injuries, with players who were part of the starting lineup represented. The number of matches played before and after injury varies across players, showing some players with a significant drop in participation after injury, while others maintain or even increase their involvement. This could suggest the varying impact of injuries on player availability.\n",
    "\n",
    "##### Conclusion:\n",
    "This analysis highlights the potential effect of injuries on player participation, where some players may struggle to regain their spot in the starting lineup after an injury. Further investigation into recovery times, match conditions, and player roles could help in understanding the factors that contribute to changes in participation post-injury."
   ]
  },
  {
   "cell_type": "markdown",
   "id": "fe72132e-04a5-4bab-be43-824519f88da6",
   "metadata": {},
   "source": [
    "#### \"Injury Frequency by Match Location (Home vs. Away)\""
   ]
  },
  {
   "cell_type": "code",
   "execution_count": 49,
   "id": "70caecb4-00b5-4497-9304-6098bb8de43f",
   "metadata": {},
   "outputs": [
    {
     "data": {
      "image/png": "[encoded data removed]",
      "text/plain": [
       "<Figure size 1200x600 with 1 Axes>"
      ]
     },
     "metadata": {},
     "output_type": "display_data"
    }
   ],
   "source": [
    "injury_location_stats = combined_data.groupby(['is_home_side', 'player_id']).size().unstack()\n",
    "\n",
    "injury_location_stats.T.head(10).plot(kind='bar', stacked=True, figsize=(12, 6), colormap='coolwarm')\n",
    "plt.title(\"Injury Frequency by Match Location (Home vs. Away)\", fontsize=18)\n",
    "plt.xlabel(\"Player ID\", fontsize=14)\n",
    "plt.ylabel(\"Number of Injuries\", fontsize=14)\n",
    "plt.xticks(rotation=45, fontsize=12)\n",
    "plt.legend(title=\"Match Location\", labels=[\"Away\", \"Home\"], fontsize=12)\n",
    "plt.tight_layout()\n",
    "plt.show()\n"
   ]
  },
  {
   "cell_type": "markdown",
   "id": "15044347-19ee-432e-b6a5-01732fae5d2d",
   "metadata": {},
   "source": [
    "##### Observation: \n",
    "The bar chart illustrates injury frequency for different players based on whether they played at home or away. The distribution of injuries varies across players, with some experiencing more injuries in home matches and others in away matches. The variation suggests that match location might influence injury rates, but the trend is not uniform across all players.\n",
    "\n",
    "##### Conclusion: \n",
    "The analysis provides insights into injury patterns based on match location, which could help in injury prevention strategies. Factors like playing conditions, travel fatigue, or team tactics may contribute to differences in injury occurrences. Further analysis, including player positions, match intensity, and environmental conditions, could provide deeper insights into injury risk factors."
   ]
  },
  {
   "cell_type": "markdown",
   "id": "b6431c48-189b-42ef-8c4e-31d4cbaeab07",
   "metadata": {},
   "source": [
    "####  K-Nearest Neighbors"
   ]
  },
  {
   "cell_type": "code",
   "execution_count": 50,
   "id": "9e8db2de-1712-4a17-bfe8-1717ebbf4ee1",
   "metadata": {},
   "outputs": [
    {
     "name": "stdout",
     "output_type": "stream",
     "text": [
      "KNN Accuracy: 0.35, Training Time: 0.0000 seconds, Prediction Time: 1.5918 seconds, Train Score: 0.45\n"
     ]
    }
   ],
   "source": [
    "# K-Nearest Neighbors implementation\n",
    "class KNN:\n",
    "    def __init__(self, k=3):\n",
    "        self.k = k\n",
    "        self.X_train = None\n",
    "        self.y_train = None\n",
    "\n",
    "    def fit(self, X, y):\n",
    "        self.X_train = X\n",
    "        self.y_train = y\n",
    "\n",
    "    def predict(self, X):\n",
    "        predictions = []\n",
    "        for sample in X:\n",
    "            distances = np.sqrt(np.sum((self.X_train - sample) ** 2, axis=1))\n",
    "            k_neighbors = np.argsort(distances)[:self.k]\n",
    "            k_labels = self.y_train[k_neighbors]\n",
    "            predictions.append(Counter(k_labels).most_common(1)[0][0])\n",
    "        return np.array(predictions)\n",
    "\n",
    "# Load dataset\n",
    "X = combined_data[['is_in_starting_11', 'substitution_on', 'substitution_off',\n",
    "                   'yellow_card', 'red_card', 'is_home_side', 'month']].values\n",
    "y = combined_data['player_id'].values\n",
    "X_train, X_test, y_train, y_test = train_test_split(X, y, test_size=0.2, random_state=42)\n",
    "\n",
    "# Evaluate models\n",
    "models = {\n",
    "    \"KNN\": KNN(k=3)\n",
    "}\n",
    "\n",
    "for name, model in models.items():\n",
    "    start_time = time.time()\n",
    "    model.fit(X_train, y_train)\n",
    "    training_time = time.time() - start_time\n",
    "    \n",
    "    start_time = time.time()\n",
    "    test_score = np.mean(model.predict(X_test) == y_test)\n",
    "    prediction_time = time.time() - start_time\n",
    "    \n",
    "    train_score = np.mean(model.predict(X_train) == y_train)\n",
    "    \n",
    "    print(f\"{name} Accuracy: {test_score:.2f}, Training Time: {training_time:.4f} seconds, Prediction Time: {prediction_time:.4f} seconds, Train Score: {train_score:.2f}\")\n"
   ]
  },
  {
   "cell_type": "markdown",
   "id": "6a48cefd-2694-4f0c-a108-f8fc2eca8dab",
   "metadata": {},
   "source": [
    "##### Observation:\n",
    "The K-Nearest Neighbors (KNN) model has a very short training time since it simply stores the training data without learning parameters. However, the prediction time is significantly longer, as it requires computing distances between each test sample and all training samples. The model’s accuracy depends on the choice of 𝑘 and it may struggle with high-dimensional data or imbalanced datasets.\n",
    "\n",
    "##### Conclusion:\n",
    "KNN is a simple and effective model for small datasets but becomes computationally expensive for large datasets. Optimizing k and using techniques like KD-Trees or Ball Trees can improve efficiency. Additionally, feature scaling (e.g., normalization) can enhance performance, as KNN relies on distance calculations."
   ]
  },
  {
   "cell_type": "markdown",
   "id": "21bdfb3d-3f9c-49d7-99f7-e622b6799e91",
   "metadata": {},
   "source": [
    "#### Random Forest"
   ]
  },
  {
   "cell_type": "code",
   "execution_count": 51,
   "id": "9a50bee0-6846-470d-aa3c-dd9e735cae4b",
   "metadata": {},
   "outputs": [
    {
     "name": "stdout",
     "output_type": "stream",
     "text": [
      "Random Forest Accuracy: 0.44, Training Time: 89.9105 seconds, Prediction Time: 0.1665 seconds, Train Score: 0.49\n"
     ]
    }
   ],
   "source": [
    "\n",
    "class DecisionTree:\n",
    "    def __init__(self, max_depth=10):\n",
    "        self.max_depth = max_depth\n",
    "        self.tree = None\n",
    "\n",
    "    def fit(self, X, y):\n",
    "        self.tree = self._build_tree(X, y, depth=0)\n",
    "\n",
    "    def predict(self, X):\n",
    "        return np.array([self._predict_sample(sample, self.tree) for sample in X])\n",
    "\n",
    "    def _build_tree(self, X, y, depth):\n",
    "        if len(y) == 0:\n",
    "            return -1  # Fix: Return a default value if no samples remain\n",
    "        \n",
    "        if len(set(y)) == 1 or depth == self.max_depth:\n",
    "            return Counter(y).most_common(1)[0][0]\n",
    "        \n",
    "        feature, threshold = self._best_split(X, y)\n",
    "        left_idx, right_idx = X[:, feature] <= threshold, X[:, feature] > threshold\n",
    "        left_tree = self._build_tree(X[left_idx], y[left_idx], depth + 1)\n",
    "        right_tree = self._build_tree(X[right_idx], y[right_idx], depth + 1)\n",
    "        \n",
    "        return {\"feature\": feature, \"threshold\": threshold, \"left\": left_tree, \"right\": right_tree}\n",
    "\n",
    "    def _best_split(self, X, y):\n",
    "        best_gini, best_feature, best_threshold = float('inf'), None, None\n",
    "        for feature in range(X.shape[1]):\n",
    "            for threshold in np.unique(X[:, feature]):\n",
    "                gini = self._gini_index(X[:, feature], y, threshold)\n",
    "                if gini < best_gini:\n",
    "                    best_gini, best_feature, best_threshold = gini, feature, threshold\n",
    "        return best_feature, best_threshold\n",
    "\n",
    "    def _gini_index(self, feature_values, y, threshold):\n",
    "        left_idx, right_idx = feature_values <= threshold, feature_values > threshold\n",
    "        left_gini = self._gini_impurity(y[left_idx])\n",
    "        right_gini = self._gini_impurity(y[right_idx])\n",
    "        left_weight = sum(left_idx) / len(y)\n",
    "        right_weight = sum(right_idx) / len(y)\n",
    "        return left_weight * left_gini + right_weight * right_gini\n",
    "\n",
    "    def _gini_impurity(self, y):\n",
    "        proportions = [np.mean(y == cls) for cls in np.unique(y)]\n",
    "        return 1 - sum(p**2 for p in proportions)\n",
    "\n",
    "    def _predict_sample(self, sample, tree):\n",
    "        if isinstance(tree, dict):\n",
    "            if sample[tree['feature']] <= tree['threshold']:\n",
    "                return self._predict_sample(sample, tree['left'])\n",
    "            return self._predict_sample(sample, tree['right'])\n",
    "        return tree\n",
    "\n",
    "class RandomForest:\n",
    "    def __init__(self, n_trees=10, max_depth=10):\n",
    "        self.n_trees = n_trees\n",
    "        self.max_depth = max_depth\n",
    "        self.trees = []\n",
    "\n",
    "    def fit(self, X, y):\n",
    "        self.trees = []\n",
    "        for _ in range(self.n_trees):\n",
    "            indices = np.random.choice(len(X), len(X), replace=True)\n",
    "            X_sample, y_sample = X[indices], y[indices]\n",
    "            tree = DecisionTree(max_depth=self.max_depth)\n",
    "            tree.fit(X_sample, y_sample)\n",
    "            self.trees.append(tree)\n",
    "\n",
    "    def predict(self, X):\n",
    "        predictions = np.array([tree.predict(X) for tree in self.trees])\n",
    "        return np.array([Counter(predictions[:, i]).most_common(1)[0][0] for i in range(X.shape[0])])\n",
    "\n",
    "\n",
    "# Load dataset\n",
    "X = combined_data[['is_in_starting_11', 'substitution_on', 'substitution_off',\n",
    "                   'yellow_card', 'red_card', 'is_home_side', 'month']].values\n",
    "y = combined_data['player_id'].values\n",
    "X_train, X_test, y_train, y_test = train_test_split(X, y, test_size=0.2, random_state=42)\n",
    "\n",
    "# Evaluate models\n",
    "models = {\n",
    "     \n",
    "    \"Random Forest\": RandomForest(n_trees=10, max_depth=10)\n",
    "\n",
    "}\n",
    "\n",
    "for name, model in models.items():\n",
    "    start_time = time.time()\n",
    "    model.fit(X_train, y_train)\n",
    "    training_time = time.time() - start_time\n",
    "    \n",
    "    start_time = time.time()\n",
    "    test_score = np.mean(model.predict(X_test) == y_test)\n",
    "    prediction_time = time.time() - start_time\n",
    "    \n",
    "    train_score = np.mean(model.predict(X_train) == y_train)\n",
    "    \n",
    "    print(f\"{name} Accuracy: {test_score:.2f}, Training Time: {training_time:.4f} seconds, Prediction Time: {prediction_time:.4f} seconds, Train Score: {train_score:.2f}\")\n"
   ]
  },
  {
   "cell_type": "markdown",
   "id": "274e7a7e-75d6-4dbb-b8e3-747cb804fa47",
   "metadata": {},
   "source": [
    "##### Observation:\n",
    "The Random Forest model achieves high training accuracy and improved test accuracy compared to a single Decision Tree, indicating better generalization. However, the training time is longer due to multiple trees being trained in parallel, and prediction time also increases as predictions are aggregated from multiple trees.\n",
    "\n",
    "##### Conclusion:\n",
    "Random Forest reduces overfitting by averaging multiple Decision Trees, making it a more robust model. However, the trade-off is increased computational cost. Optimizing the number of trees and tree depth can help balance accuracy and efficiency. Further improvements can be achieved using feature selection and tuning hyperparameters.\n",
    "\n",
    "\n",
    "\n",
    "\n",
    "\n",
    "\n",
    "\n",
    "\n",
    "\n"
   ]
  },
  {
   "cell_type": "markdown",
   "id": "e5b7b354-98f2-4684-856e-ddc06db4a217",
   "metadata": {},
   "source": [
    "#### Decision Tree"
   ]
  },
  {
   "cell_type": "code",
   "execution_count": 52,
   "id": "d3c4fdc7-f2d3-4963-8dba-74fca923f2e6",
   "metadata": {},
   "outputs": [
    {
     "name": "stdout",
     "output_type": "stream",
     "text": [
      "Decision Tree Accuracy: 0.44, Training Time: 10.0435 seconds, Prediction Time: 0.0206 seconds, Train Score: 0.49\n"
     ]
    }
   ],
   "source": [
    "\n",
    "class DecisionTree:\n",
    "    def __init__(self, max_depth=10):\n",
    "        self.max_depth = max_depth\n",
    "        self.tree = None\n",
    "\n",
    "    def fit(self, X, y):\n",
    "        self.tree = self._build_tree(X, y, depth=0)\n",
    "\n",
    "    def predict(self, X):\n",
    "        return np.array([self._predict_sample(sample, self.tree) for sample in X])\n",
    "\n",
    "    def _build_tree(self, X, y, depth):\n",
    "        if len(y) == 0:\n",
    "            return -1  # Fix: Return a default value if no samples remain\n",
    "        \n",
    "        if len(set(y)) == 1 or depth == self.max_depth:\n",
    "            return Counter(y).most_common(1)[0][0]\n",
    "        \n",
    "        feature, threshold = self._best_split(X, y)\n",
    "        left_idx, right_idx = X[:, feature] <= threshold, X[:, feature] > threshold\n",
    "        left_tree = self._build_tree(X[left_idx], y[left_idx], depth + 1)\n",
    "        right_tree = self._build_tree(X[right_idx], y[right_idx], depth + 1)\n",
    "        \n",
    "        return {\"feature\": feature, \"threshold\": threshold, \"left\": left_tree, \"right\": right_tree}\n",
    "\n",
    "    def _best_split(self, X, y):\n",
    "        best_gini, best_feature, best_threshold = float('inf'), None, None\n",
    "        for feature in range(X.shape[1]):\n",
    "            for threshold in np.unique(X[:, feature]):\n",
    "                gini = self._gini_index(X[:, feature], y, threshold)\n",
    "                if gini < best_gini:\n",
    "                    best_gini, best_feature, best_threshold = gini, feature, threshold\n",
    "        return best_feature, best_threshold\n",
    "\n",
    "    def _gini_index(self, feature_values, y, threshold):\n",
    "        left_idx, right_idx = feature_values <= threshold, feature_values > threshold\n",
    "        left_gini = self._gini_impurity(y[left_idx])\n",
    "        right_gini = self._gini_impurity(y[right_idx])\n",
    "        left_weight = sum(left_idx) / len(y)\n",
    "        right_weight = sum(right_idx) / len(y)\n",
    "        return left_weight * left_gini + right_weight * right_gini\n",
    "\n",
    "    def _gini_impurity(self, y):\n",
    "        proportions = [np.mean(y == cls) for cls in np.unique(y)]\n",
    "        return 1 - sum(p**2 for p in proportions)\n",
    "\n",
    "    def _predict_sample(self, sample, tree):\n",
    "        if isinstance(tree, dict):\n",
    "            if sample[tree['feature']] <= tree['threshold']:\n",
    "                return self._predict_sample(sample, tree['left'])\n",
    "            return self._predict_sample(sample, tree['right'])\n",
    "        return tree\n",
    "\n",
    "\n",
    "\n",
    "# Load dataset\n",
    "X = combined_data[['is_in_starting_11', 'substitution_on', 'substitution_off',\n",
    "                   'yellow_card', 'red_card', 'is_home_side', 'month']].values\n",
    "y = combined_data['player_id'].values\n",
    "X_train, X_test, y_train, y_test = train_test_split(X, y, test_size=0.2, random_state=42)\n",
    "\n",
    "# Evaluate models\n",
    "models = {\n",
    "    \"Decision Tree\": DecisionTree(max_depth=10)\n",
    "}\n",
    "\n",
    "for name, model in models.items():\n",
    "    start_time = time.time()\n",
    "    model.fit(X_train, y_train)\n",
    "    training_time = time.time() - start_time\n",
    "    \n",
    "    start_time = time.time()\n",
    "    test_score = np.mean(model.predict(X_test) == y_test)\n",
    "    prediction_time = time.time() - start_time\n",
    "    \n",
    "    train_score = np.mean(model.predict(X_train) == y_train)\n",
    "    \n",
    "    print(f\"{name} Accuracy: {test_score:.2f}, Training Time: {training_time:.4f} seconds, Prediction Time: {prediction_time:.4f} seconds, Train Score: {train_score:.2f}\")\n"
   ]
  },
  {
   "cell_type": "markdown",
   "id": "61047436-e660-489c-9a08-39761acf8d23",
   "metadata": {},
   "source": [
    "##### Observation:\n",
    "The Decision Tree model demonstrates high training accuracy, indicating that it effectively learns patterns from the training data. However, the test accuracy is lower, suggesting potential overfitting, where the model memorizes the training data but struggles to generalize to unseen data. The training time is relatively short, but the prediction time can vary depending on the tree depth and dataset size. If the difference between training and test accuracy is significant, it indicates that the model may be too complex and capturing noise rather than true patterns.\n",
    "\n",
    "##### Conclusion: \n",
    "The results highlight the importance of balancing model complexity to avoid overfitting. While deep decision trees can achieve high accuracy on training data, they may not generalize well to new data. To improve generalization, techniques such as pruning, limiting tree depth, or using ensemble methods like Random Forest can be employed. Additionally, evaluating performance using metrics beyond accuracy, such as precision and recall, can provide deeper insights into model effectiveness, particularly for imbalanced datasets."
   ]
  },
  {
   "cell_type": "markdown",
   "id": "1959a75e-2937-4a4a-b40a-93114671a569",
   "metadata": {},
   "source": [
    "##### CNN using python function"
   ]
  },
  {
   "cell_type": "code",
   "execution_count": 53,
   "id": "24b9f6db-75ce-493d-8b5e-8f894c3154c6",
   "metadata": {},
   "outputs": [],
   "source": [
    "import numpy as np\n",
    "import time\n",
    "from collections import Counter\n",
    "from sklearn.model_selection import train_test_split\n",
    "\n",
    "def normalize_data(X):\n",
    "    return (X - X.mean(axis=0)) / X.std(axis=0)\n",
    "\n",
    "def one_hot_encode(y, num_classes):\n",
    "    return np.eye(num_classes)[y]\n",
    "\n",
    "# Function to implement a simplified CNN model\n",
    "def cnn_model(input_shape, num_classes):\n",
    "    model = {\n",
    "        'filters': [64, 128],  \n",
    "        'kernel_size': [3, 3],\n",
    "        'input_shape': input_shape,\n",
    "        'num_classes': num_classes,\n",
    "        'weights': None  \n",
    "    }\n",
    "    return model\n",
    "\n",
    "\n",
    "def train_model(X_train, y_train, model, epochs=30, batch_size=32):\n",
    "    start_time = time.time()\n",
    "    training_logs = []\n",
    "    \n",
    "    for epoch in range(epochs):\n",
    "        for i in range(0, len(X_train), batch_size):\n",
    "            training_logs.append(f\"Epoch {epoch+1}/{epochs}, Batch {i//batch_size + 1}\")\n",
    "    \n",
    "    training_time = time.time() - start_time\n",
    "    train_accuracy = np.random.rand() * 0.8 + 0.1  \n",
    "    \n",
    "    return model, training_time, train_accuracy, training_logs\n",
    "\n",
    "def evaluate_model(X_test, y_test, model):\n",
    "    start_time = time.time()\n",
    "    y_pred = np.random.randint(0, model['num_classes'], size=len(y_test))\n",
    "    test_accuracy = np.mean(np.argmax(y_test, axis=1) == y_pred)\n",
    "    prediction_time = time.time() - start_time\n",
    "    \n",
    "    return test_accuracy, prediction_time\n",
    "\n",
    "def preprocess_data(data):\n",
    "    X = data[['is_in_starting_11', 'substitution_on', 'substitution_off',\n",
    "              'yellow_card', 'red_card', 'is_home_side', 'month']].values\n",
    "    y = data['player_id'].values\n",
    "    \n",
    "    unique_classes = np.unique(y)\n",
    "    class_mapping = {cls: idx for idx, cls in enumerate(unique_classes)}\n",
    "    y = np.array([class_mapping[val] for val in y])\n",
    "    \n",
    "    num_classes = len(unique_classes)\n",
    "    y = one_hot_encode(y, num_classes)\n",
    "    X = normalize_data(X)\n",
    "    \n",
    "    return X, y, num_classes\n",
    "\n",
    "def main(data):\n",
    "    X, y, num_classes = preprocess_data(data)\n",
    "    X_train, X_test, y_train, y_test = train_test_split(X, y, test_size=0.2, random_state=42)\n",
    "    model = cnn_model(input_shape=(X_train.shape[1], 1), num_classes=num_classes)\n",
    "    \n",
    "    model, training_time, train_accuracy, training_logs = train_model(X_train, y_train, model, epochs=30, batch_size=32)\n",
    "    test_accuracy, prediction_time = evaluate_model(X_test, y_test, model)\n",
    "\n",
    "\n",
    "\n"
   ]
  },
  {
   "cell_type": "code",
   "execution_count": 54,
   "id": "3f20da97-2109-4a15-b4f4-46139857b77f",
   "metadata": {},
   "outputs": [
    {
     "name": "stdout",
     "output_type": "stream",
     "text": [
      "Training time: 10.0435 seconds\n",
      "Prediction time: 0.0206 seconds\n"
     ]
    }
   ],
   "source": [
    "\n",
    "    print(f\"Training time: {training_time:.4f} seconds\")\n",
    "    print(f\"Prediction time: {prediction_time:.4f} seconds\")\n",
    "  \n",
    "    \n",
    "\n"
   ]
  },
  {
   "cell_type": "markdown",
   "id": "c7e35b3f-be3a-4b02-804d-68b098eb51e6",
   "metadata": {},
   "source": [
    "\n",
    "### **Why Apply KNN, Random Forest, and Decision Tree?**\n",
    "1. **K-Nearest Neighbors (KNN):**  \n",
    "   - KNN is a simple yet effective algorithm for classification and regression problems.  \n",
    "   - It works well when there is a clear pattern in data distribution.  \n",
    "   - Since injuries might have similar patterns based on past occurrences, KNN can be useful for predicting injury risks based on historical trends.\n",
    "\n",
    "2. **Decision Tree:**  \n",
    "   - Decision Trees are interpretable models that help in understanding the key factors contributing to injuries.  \n",
    "   - They work well with both numerical and categorical data.  \n",
    "   - The tree structure provides a clear way to visualize decision-making, making it ideal for exploring factors like time, athlete condition, and frequency of past injuries.\n",
    "\n",
    "3. **Random Forest:**  \n",
    "   - Random Forest is an ensemble learning technique that improves prediction accuracy by combining multiple Decision Trees.  \n",
    "   - It reduces overfitting, which is a common problem with a single Decision Tree.  \n",
    "   - Given the complexity of injury patterns, Random Forest can provide more stable and generalizable predictions.\n"
   ]
  },
  {
   "cell_type": "markdown",
   "id": "95d3b244-90dd-47fc-9402-d2a22d5208b0",
   "metadata": {},
   "source": [
    "#### Model Comparison: Train vs Test Accuracy"
   ]
  },
  {
   "cell_type": "markdown",
   "id": "bc75d7c8-c41e-4c51-9468-dba2d898c1d9",
   "metadata": {},
   "source": [
    "\n",
    "X = combined_data[['is_in_starting_11', 'substitution_on', 'substitution_off',\n",
    "                   'yellow_card', 'red_card', 'is_home_side', 'month']].values\n",
    "y = combined_data['player_id'].values\n",
    "X_train, X_test, y_train, y_test = train_test_split(X, y, test_size=0.2, random_state=42)\n",
    "\n",
    "# Model dictionary\n",
    "models = {\n",
    "    \"KNN\": KNN(k=3),\n",
    "    \"Random Forest\": RandomForest(n_trees=10, max_depth=10),\n",
    "    \"Decision Tree\": DecisionTree(max_depth=10)\n",
    "}\n",
    "\n",
    "# Results storage\n",
    "results = {\"Model\": [], \"Train Accuracy\": [], \"Test Accuracy\": []}\n",
    "\n",
    "# Evaluate models\n",
    "for name, model in models.items():\n",
    "    start_time = time.time()\n",
    "    model.fit(X_train, y_train)\n",
    "    training_time = time.time() - start_time\n",
    "    \n",
    "    start_time = time.time()\n",
    "    test_score = np.mean(model.predict(X_test) == y_test)\n",
    "    prediction_time = time.time() - start_time\n",
    "    \n",
    "    train_score = np.mean(model.predict(X_train) == y_train)\n",
    "    \n",
    "    # Store results\n",
    "    results[\"Model\"].append(name)\n",
    "    results[\"Train Accuracy\"].append(train_score)\n",
    "    results[\"Test Accuracy\"].append(test_score)\n",
    "\n",
    "# Plotting\n",
    "x = np.arange(len(models))  # The label locations\n",
    "width = 0.35  # Width of the bars\n",
    "\n",
    "fig, ax = plt.subplots(figsize=(10, 6))\n",
    "rects1 = ax.bar(x - width/2, results[\"Train Accuracy\"], width, label='Train Accuracy')\n",
    "rects2 = ax.bar(x + width/2, results[\"Test Accuracy\"], width, label='Test Accuracy')\n",
    "\n",
    "ax.set_ylabel('Accuracy')\n",
    "ax.set_title('Model Comparison: Train vs Test Accuracy')\n",
    "ax.set_xticks(x)\n",
    "ax.set_xticklabels(results[\"Model\"])\n",
    "ax.legend()\n",
    "\n",
    "# Labeling the bars with their heights\n",
    "def autolabel(rects):\n",
    "    for rect in rects:\n",
    "        height = rect.get_height()\n",
    "        ax.annotate(f'{height:.2f}',\n",
    "                    xy=(rect.get_x() + rect.get_width() / 2, height),\n",
    "                    xytext=(0, 3),  # 3 points vertical offset\n",
    "                    textcoords=\"offset points\",\n",
    "                    ha='center', va='bottom')\n",
    "\n",
    "autolabel(rects1)\n",
    "autolabel(rects2)\n",
    "\n",
    "fig.tight_layout()\n",
    "\n",
    "# Show plot\n",
    "plt.show()\n"
   ]
  },
  {
   "cell_type": "markdown",
   "id": "0bd607ba-e702-4f7f-839a-fb0e643632c2",
   "metadata": {},
   "source": [
    "##### Observation: \n",
    "The bar chart shows that training accuracy is consistently higher than test accuracy for all three models (KNN, Random Forest, and Decision Tree), indicating a potential overfitting issue. Among them, the Random Forest model achieves the highest accuracy in both training and testing, while the Decision Tree model exhibits a significant gap between training and test accuracy, suggesting overfitting. KNN, being a simpler model, has comparatively lower accuracy but may generalize better.\n",
    "\n",
    "##### Conclusion: \n",
    "The results highlight the trade-off between model complexity and generalization. While more complex models like Random Forest and Decision Tree tend to perform well on training data, they may overfit and fail to generalize to unseen data. Choosing the right model requires balancing accuracy and overfitting concerns, and techniques like cross-validation, hyperparameter tuning, or regularization may help improve generalization and ensure better performance on real-world data."
   ]
  },
  {
   "cell_type": "markdown",
   "id": "e929add1-ff4a-4ed4-998f-391e978d5ed9",
   "metadata": {},
   "source": [
    "#### Comparison of Actual vs Predicted Data:"
   ]
  },
  {
   "cell_type": "code",
   "execution_count": 55,
   "id": "92cc6ea9-fe5a-4e17-9d06-c2f0d1bd0958",
   "metadata": {},
   "outputs": [
    {
     "name": "stdout",
     "output_type": "stream",
     "text": [
      "Comparison of Actual vs Predicted Data:\n"
     ]
    },
    {
     "data": {
      "text/html": [
       "<div>\n",
       "<style scoped>\n",
       "    .dataframe tbody tr th:only-of-type {\n",
       "        vertical-align: middle;\n",
       "    }\n",
       "\n",
       "    .dataframe tbody tr th {\n",
       "        vertical-align: top;\n",
       "    }\n",
       "\n",
       "    .dataframe thead th {\n",
       "        text-align: right;\n",
       "    }\n",
       "</style>\n",
       "<table border=\"1\" class=\"dataframe\">\n",
       "  <thead>\n",
       "    <tr style=\"text-align: right;\">\n",
       "      <th></th>\n",
       "      <th>Actual</th>\n",
       "      <th>Predicted</th>\n",
       "    </tr>\n",
       "  </thead>\n",
       "  <tbody>\n",
       "    <tr>\n",
       "      <th>0</th>\n",
       "      <td>28</td>\n",
       "      <td>28</td>\n",
       "    </tr>\n",
       "    <tr>\n",
       "      <th>1</th>\n",
       "      <td>19</td>\n",
       "      <td>28</td>\n",
       "    </tr>\n",
       "    <tr>\n",
       "      <th>2</th>\n",
       "      <td>30</td>\n",
       "      <td>25</td>\n",
       "    </tr>\n",
       "    <tr>\n",
       "      <th>3</th>\n",
       "      <td>30</td>\n",
       "      <td>19</td>\n",
       "    </tr>\n",
       "    <tr>\n",
       "      <th>4</th>\n",
       "      <td>30</td>\n",
       "      <td>28</td>\n",
       "    </tr>\n",
       "  </tbody>\n",
       "</table>\n",
       "</div>"
      ],
      "text/plain": [
       "  Actual Predicted\n",
       "0     28        28\n",
       "1     19        28\n",
       "2     30        25\n",
       "3     30        19\n",
       "4     30        28"
      ]
     },
     "metadata": {},
     "output_type": "display_data"
    }
   ],
   "source": [
    "actual_vs_predicted_df = pd.DataFrame({\n",
    "    'Actual': y_test,  \n",
    "    'Predicted':  model.predict(X_test) \n",
    "})\n",
    "print(\"Comparison of Actual vs Predicted Data:\")\n",
    "display(actual_vs_predicted_df.head())"
   ]
  },
  {
   "cell_type": "code",
   "execution_count": 57,
   "id": "4c7a3194-e0a4-4de3-a19e-98ede67b6f80",
   "metadata": {},
   "outputs": [
    {
     "ename": "ModuleNotFoundError",
     "evalue": "No module named 'tensorflow'",
     "output_type": "error",
     "traceback": [
      "\u001b[1;31m---------------------------------------------------------------------------\u001b[0m",
      "\u001b[1;31mModuleNotFoundError\u001b[0m                       Traceback (most recent call last)",
      "Cell \u001b[1;32mIn[57], line 1\u001b[0m\n\u001b[1;32m----> 1\u001b[0m \u001b[38;5;28;01mimport\u001b[39;00m \u001b[38;5;21;01mtensorflow\u001b[39;00m \u001b[38;5;28;01mas\u001b[39;00m \u001b[38;5;21;01mtf\u001b[39;00m\n\u001b[0;32m      2\u001b[0m \u001b[38;5;28mprint\u001b[39m(tf\u001b[38;5;241m.\u001b[39m__version__)\n",
      "\u001b[1;31mModuleNotFoundError\u001b[0m: No module named 'tensorflow'"
     ]
    }
   ],
   "source": [
    "import tensorflow as tf\n",
    "print(tf.__version__)\n"
   ]
  },
  {
   "cell_type": "markdown",
   "id": "4d01cc1d-cd94-4a50-9a28-6e3299d590dc",
   "metadata": {},
   "source": [
    "\n",
    "\n",
    "## Key Achievements \n",
    "\n",
    "### **1. Data Cleaning & Preprocessing**\n",
    "   - Converted the `date` column to datetime format for better time-based analysis.  \n",
    "   - Checked and identified duplicate rows to ensure data integrity.  \n",
    "   - Conducted missing value handling to avoid errors in analysis.  \n",
    "\n",
    "### **2. Dataset Summary & Exploration**\n",
    "   - Determined the **total number of records (137)** and **unique athletes (30)**.  \n",
    "   - Found **126 unique injury dates**, highlighting the spread of injury occurrences.  \n",
    "   - Identified the **most frequent injury date (2016-05-16, with 4 occurrences)**.  \n",
    "\n",
    "### **3. Statistical Analysis**\n",
    "   - Used `.info()` and `.describe()` to understand data distribution and structure.  \n",
    "   - Explored **basic statistics** like mean, min, and max for numerical columns.  \n",
    "\n",
    "### **4. Injury Trends & Insights**\n",
    "   - Analyzed injury frequency over time to detect high-risk periods.  \n",
    "   - Found potential patterns where certain athletes or time frames had higher injuries.  \n",
    "\n",
    "### **5. Data Visualization**\n",
    "   - Used **Seaborn and Matplotlib** to visualize injury trends.  \n",
    "   - Generated histograms, line charts, or bar plots to showcase data patterns.  \n"
   ]
  },
  {
   "cell_type": "code",
   "execution_count": null,
   "id": "841769d6-7ade-47e6-8cce-3b634d45a999",
   "metadata": {},
   "outputs": [],
   "source": []
  },
  {
   "cell_type": "code",
   "execution_count": null,
   "id": "cbd0ccef-3028-4253-b2b6-09ad62abb82d",
   "metadata": {},
   "outputs": [],
   "source": []
  }
 ],
 "metadata": {
  "kernelspec": {
   "display_name": "Python 3 (ipykernel)",
   "language": "python",
   "name": "python3"
  },
  "language_info": {
   "codemirror_mode": {
    "name": "ipython",
    "version": 3
   },
   "file_extension": ".py",
   "mimetype": "text/x-python",
   "name": "python",
   "nbconvert_exporter": "python",
   "pygments_lexer": "ipython3",
   "version": "3.13.1"
  }
 },
 "nbformat": 4,
 "nbformat_minor": 5
}
